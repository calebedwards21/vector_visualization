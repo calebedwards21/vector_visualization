{
 "cells": [
  {
   "cell_type": "code",
   "execution_count": 1,
   "metadata": {},
   "outputs": [],
   "source": [
    "import numpy as np\n",
    "import pyvista as pv\n",
    "import os\n",
    "from scipy import interpolate\n",
    "import matplotlib.pyplot as plt"
   ]
  },
  {
   "cell_type": "code",
   "execution_count": 2,
   "metadata": {},
   "outputs": [],
   "source": [
    "def create_base_streamlines(mesh):\n",
    "    w,v,u = mesh.point_data['w'], mesh.point_data['v'], mesh.point_data['u']\n",
    "\n",
    "    vectors = np.empty((mesh.n_points, 3))\n",
    "    vectors[:,0] = u\n",
    "    vectors[:,1] = v\n",
    "    vectors[:,2] = w\n",
    "\n",
    "    mesh['vectors'] = vectors\n",
    "\n",
    "    streamlines, seed_pts = mesh.streamlines(\n",
    "        'vectors', \n",
    "        return_source=True,\n",
    "        n_points=100,\n",
    "        source_radius=1.5,\n",
    "        source_center=(6.0,0,0), \n",
    "        # pointa=(-0.5, -1.5, -0.5),\n",
    "        # pointb=(-0.5, 1.5, 0.5)\n",
    "    )\n",
    "    \n",
    "    return streamlines, seed_pts"
   ]
  },
  {
   "cell_type": "code",
   "execution_count": 3,
   "metadata": {},
   "outputs": [],
   "source": [
    "def compute_downsampled_streamlines(s, seeds, base_mesh):\n",
    "    '''\n",
    "        Computes streamlines from seed points and down sample size\n",
    "    '''\n",
    "    w,v,u = base_mesh.point_data['w'], base_mesh.point_data['v'], base_mesh.point_data['u']\n",
    "\n",
    "    u.shape = v.shape = w.shape = base_mesh.dimensions\n",
    "\n",
    "\n",
    "    # Down Sample / Decimate\n",
    "    u = u[::s, ::s, ::s] \n",
    "    v = v[::s, ::s, ::s]\n",
    "    w = w[::s, ::s, ::s]\n",
    "\n",
    "    dims = u.shape\n",
    "\n",
    "    u = u.flatten()\n",
    "    v = v.flatten()\n",
    "    w = w.flatten()\n",
    "\n",
    "    vectors = np.empty((int(len(u)), 3))\n",
    "    vectors[:,0] = u\n",
    "    vectors[:,1] = v\n",
    "    vectors[:,2] = w\n",
    "\n",
    "    mesh = pv.UniformGrid(\n",
    "        dims=dims,\n",
    "        spacing=tuple([x*s for x in list(base_mesh.spacing)]),\n",
    "        origin=base_mesh.origin\n",
    "    )\n",
    "\n",
    "    mesh['vectors'] = vectors\n",
    "    \n",
    "    streamlines = mesh.streamlines_from_source(\n",
    "        vectors='vectors', \n",
    "        source=seeds\n",
    "    )\n",
    "    \n",
    "    return streamlines, mesh"
   ]
  },
  {
   "cell_type": "code",
   "execution_count": 4,
   "metadata": {},
   "outputs": [],
   "source": [
    "def entry_point(filename):\n",
    "    mesh = pv.read(filename)\n",
    "    s, seed_pts = create_base_streamlines(mesh)\n",
    "    s2, m2 = compute_downsampled_streamlines(2, seed_pts, mesh)\n",
    "    s4, m4 = compute_downsampled_streamlines(4, seed_pts, mesh)\n",
    "    s8, m8 = compute_downsampled_streamlines(8, seed_pts, mesh)\n",
    "    s16, m16 = compute_downsampled_streamlines(16, seed_pts, mesh)\n",
    "    s32, m32 = compute_downsampled_streamlines(32, seed_pts, mesh)\n",
    "    s64, m64 = compute_downsampled_streamlines(64, seed_pts, mesh)\n",
    "    return (s, s2, s4, s8, s16, s32, s64), (mesh, m2, m4, m8, m16, m32, m64)"
   ]
  },
  {
   "cell_type": "code",
   "execution_count": 5,
   "metadata": {},
   "outputs": [],
   "source": [
    "reynolds160 = '.\\\\Data\\\\Structured160\\\\halfcylinder-2.00.vti'\n",
    "# reynolds640 = '.\\\\Data\\\\Structured640\\\\halfcylinder-0.00.vti'\n",
    "(s, s2, s4, s8, s16, s32, s64), (m, m2, m4, m8, m16, m32, m64) = entry_point(reynolds160)\n",
    "# k, k2, k4, k8, k16, k32, k64 = entry_point(reynolds640)"
   ]
  },
  {
   "cell_type": "code",
   "execution_count": 6,
   "metadata": {},
   "outputs": [],
   "source": [
    "p = pv.Plotter()\n",
    "\n",
    "def plot_streamlines(value):\n",
    "    error = int(value)\n",
    "    streamlines = s\n",
    "    mesh = m\n",
    "    if error >= 2 and error < 4:\n",
    "        streamlines = s2\n",
    "        mesh = m2\n",
    "    elif error >= 4 and error < 8:\n",
    "        streamlines = s4\n",
    "        mesh = m4\n",
    "    elif error >= 8 and error < 16:\n",
    "        streamlines = s8\n",
    "        mesh = m8\n",
    "    elif error >= 16 and error < 32:\n",
    "        streamlines = s16\n",
    "        mesh = m16\n",
    "    elif error >= 32 and error < 64:\n",
    "        streamlines = s32\n",
    "        mesh = m32\n",
    "    elif error >= 64:\n",
    "        streamlines = s64                    \n",
    "        mesh = m64\n",
    "    \n",
    "    boundary = mesh.decimate_boundary().extract_all_edges()\n",
    "    # p.add_mesh(boundary, color='grey', opacity=.75)\n",
    "    p.add_mesh(streamlines.tube(radius=0.02))\n",
    "    "
   ]
  },
  {
   "cell_type": "code",
   "execution_count": 7,
   "metadata": {},
   "outputs": [
    {
     "data": {
      "application/vnd.jupyter.widget-view+json": {
       "model_id": "eac09539ff994a98b6407369f0ad516e",
       "version_major": 2,
       "version_minor": 0
      },
      "text/plain": [
       "ViewInteractiveWidget(height=768, layout=Layout(height='auto', width='100%'), width=1024)"
      ]
     },
     "metadata": {},
     "output_type": "display_data"
    }
   ],
   "source": [
    "p.add_slider_widget(plot_streamlines, [0, 64], title='Downsample Size')\n",
    "p.show()"
   ]
  }
 ],
 "metadata": {
  "interpreter": {
   "hash": "e1544be3cfcd25960d8e00eace988acceb41ff3a4312f7e2c9ed99989dda4605"
  },
  "kernelspec": {
   "display_name": "Python 3.9.10 ('vtk-py-env': venv)",
   "language": "python",
   "name": "python3"
  },
  "language_info": {
   "codemirror_mode": {
    "name": "ipython",
    "version": 3
   },
   "file_extension": ".py",
   "mimetype": "text/x-python",
   "name": "python",
   "nbconvert_exporter": "python",
   "pygments_lexer": "ipython3",
   "version": "3.9.10"
  },
  "orig_nbformat": 4
 },
 "nbformat": 4,
 "nbformat_minor": 2
}
