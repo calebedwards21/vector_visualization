{
 "cells": [
  {
   "cell_type": "code",
   "execution_count": 47,
   "metadata": {},
   "outputs": [],
   "source": [
    "import numpy as np\n",
    "import pyvista as pv\n",
    "import os\n",
    "from scipy import interpolate\n",
    "import matplotlib.pyplot as plt"
   ]
  },
  {
   "cell_type": "code",
   "execution_count": 48,
   "metadata": {},
   "outputs": [],
   "source": [
    "def create_base_streamlines(mesh):\n",
    "    w,v,u = mesh.point_data['w'], mesh.point_data['v'], mesh.point_data['u']\n",
    "\n",
    "    vectors = np.empty((mesh.n_points, 3))\n",
    "    vectors[:,0] = u\n",
    "    vectors[:,1] = v\n",
    "    vectors[:,2] = w\n",
    "\n",
    "    mesh['vectors'] = vectors\n",
    "\n",
    "    streamlines, seed_pts = mesh.streamlines(\n",
    "        'vectors', \n",
    "        return_source=True,\n",
    "        n_points=100,\n",
    "        source_radius=1.5,\n",
    "        source_center=(6.0,0,0)\n",
    "    )\n",
    "    \n",
    "    return streamlines, seed_pts"
   ]
  },
  {
   "cell_type": "code",
   "execution_count": 49,
   "metadata": {},
   "outputs": [],
   "source": [
    "def compute_downsampled_streamlines(s, seeds, base_mesh):\n",
    "    '''\n",
    "        Computes streamlines from seed points and down sample size\n",
    "    '''\n",
    "    w,v,u = base_mesh.point_data['w'], base_mesh.point_data['v'], base_mesh.point_data['u']\n",
    "\n",
    "    u.shape = v.shape = w.shape = base_mesh.dimensions\n",
    "\n",
    "\n",
    "    # Down Sample / Decimate\n",
    "    u = u[::s, ::s, ::s] \n",
    "    v = v[::s, ::s, ::s]\n",
    "    w = w[::s, ::s, ::s]\n",
    "\n",
    "    dims = u.shape\n",
    "\n",
    "    u = u.flatten()\n",
    "    v = v.flatten()\n",
    "    w = w.flatten()\n",
    "\n",
    "    vectors = np.empty((int(len(u)), 3))\n",
    "    vectors[:,0] = u\n",
    "    vectors[:,1] = v\n",
    "    vectors[:,2] = w\n",
    "\n",
    "    mesh = pv.UniformGrid(\n",
    "        dims=dims,\n",
    "        spacing=tuple([x*s for x in list(base_mesh.spacing)]),\n",
    "        origin=base_mesh.origin\n",
    "    )\n",
    "\n",
    "    mesh['vectors'] = vectors\n",
    "    \n",
    "    streamlines = mesh.streamlines_from_source(\n",
    "        vectors='vectors', \n",
    "        source=seeds\n",
    "    )\n",
    "    \n",
    "    return streamlines, mesh"
   ]
  },
  {
   "cell_type": "code",
   "execution_count": 50,
   "metadata": {},
   "outputs": [],
   "source": [
    "def entry_point(filename):\n",
    "    mesh = pv.read(filename)\n",
    "    s, seed_pts = create_base_streamlines(mesh)\n",
    "    s2, m2 = compute_downsampled_streamlines(2, seed_pts, mesh)\n",
    "    s4, m4 = compute_downsampled_streamlines(4, seed_pts, mesh)\n",
    "    s8, m8 = compute_downsampled_streamlines(8, seed_pts, mesh)\n",
    "    s16, m16 = compute_downsampled_streamlines(16, seed_pts, mesh)\n",
    "    s32, m32 = compute_downsampled_streamlines(32, seed_pts, mesh)\n",
    "    s64, m64 = compute_downsampled_streamlines(64, seed_pts, mesh)\n",
    "    return (s, s2, s4, s8, s16, s32, s64), (mesh, m2, m4, m8, m16, m32, m64)"
   ]
  },
  {
   "cell_type": "code",
   "execution_count": 51,
   "metadata": {},
   "outputs": [],
   "source": [
    "reynolds160 = '.\\\\Data\\\\Structured160\\\\halfcylinder-2.00.vti'\n",
    "# reynolds640 = '.\\\\Data\\\\Structured640\\\\halfcylinder-0.00.vti'\n",
    "(ss, ss2, ss4, ss8, ss16, ss32, ss64), (mm, mm2, mm4, mm8, mm16, mm32, mm64) = entry_point(reynolds160)\n",
    "# k, k2, k4, k8, k16, k32, k64 = entry_point(reynolds640)"
   ]
  },
  {
   "cell_type": "code",
   "execution_count": 52,
   "metadata": {},
   "outputs": [],
   "source": [
    "p = pv.Plotter()\n",
    "\n",
    "def plot_streamlines(value):\n",
    "    error = int(value)\n",
    "    streamlines = ss\n",
    "    mesh = mm\n",
    "    if error >= 2 and error < 4:\n",
    "        streamlines = ss2\n",
    "        mesh = mm2\n",
    "    elif error >= 4 and error < 8:\n",
    "        streamlines = ss4\n",
    "        mesh = mm4\n",
    "    elif error >= 8 and error < 16:\n",
    "        streamlines = ss8\n",
    "        mesh = mm8\n",
    "    elif error >= 16 and error < 32:\n",
    "        streamlines = ss16\n",
    "        mesh = mm16\n",
    "    elif error >= 32 and error < 64:\n",
    "        streamlines = ss32\n",
    "        mesh = mm32\n",
    "    elif error >= 64:\n",
    "        streamlines = ss64                    \n",
    "        mesh = mm64\n",
    "    \n",
    "    # boundary = mesh.decimate_boundary().extract_all_edges()\n",
    "    # p.add_mesh(boundary, color='grey', opacity=.75)\n",
    "    p.add_mesh(streamlines.tube(radius=0.02))\n",
    "    "
   ]
  },
  {
   "cell_type": "code",
   "execution_count": 53,
   "metadata": {},
   "outputs": [
    {
     "data": {
      "application/vnd.jupyter.widget-view+json": {
       "model_id": "2e0d3b386c1943f0b283ae58b1f02533",
       "version_major": 2,
       "version_minor": 0
      },
      "text/plain": [
       "ViewInteractiveWidget(height=768, layout=Layout(height='auto', width='100%'), width=1024)"
      ]
     },
     "metadata": {},
     "output_type": "display_data"
    }
   ],
   "source": [
    "p.add_slider_widget(plot_streamlines, [0, 64], title='Downsample Size')\n",
    "p.show()"
   ]
  },
  {
   "cell_type": "code",
   "execution_count": 54,
   "metadata": {},
   "outputs": [],
   "source": [
    "def compute_error(stream1, stream2):\n",
    "    # Distance between each point in streamline\n",
    "    dv_1 = stream1[1:,:] - stream1[:-1,:]\n",
    "    dv_2 = stream2[1:,:] - stream2[:-1,:]\n",
    "\n",
    "    # Length / Magnitude of each delta t\n",
    "    dl_1 = np.sqrt(np.sum(dv_1**2, axis=1))\n",
    "    dl_2 = np.sqrt(np.sum(dv_2**2, axis=1))\n",
    "\n",
    "    t1 = np.r_[0, np.cumsum(dl_1)]\n",
    "    t2 = np.r_[0, np.cumsum(dl_2)]\n",
    "\n",
    "    # Lengths of streamline\n",
    "    length_1 = t1[-1]\n",
    "    length_2 = t2[-1]\n",
    "\n",
    "    x1 = interpolate.interp1d(t1, stream1[:,0])\n",
    "    y1 = interpolate.interp1d(t1, stream1[:,1])\n",
    "    z1 = interpolate.interp1d(t1, stream1[:,2])\n",
    "    p1 = lambda t : np.c_[x1(t), y1(t), z1(t)]\n",
    "\n",
    "    x2 = interpolate.interp1d(t2, stream2[:,0])\n",
    "    y2 = interpolate.interp1d(t2, stream2[:,1])\n",
    "    z2 = interpolate.interp1d(t2, stream2[:,2])\n",
    "    p2 = lambda t : np.c_[x2(t), y2(t), z2(t)]\n",
    "\n",
    "    t = np.linspace(0, min(length_1, length_2), 11)    \n",
    "    ind_error = np.linalg.norm(p1(t) - p2(t), axis=1) # Same as magnitude\n",
    "    tot_error = np.sum(ind_error)\n",
    "    \n",
    "    return tot_error"
   ]
  },
  {
   "cell_type": "code",
   "execution_count": 55,
   "metadata": {},
   "outputs": [],
   "source": [
    "def find_match(stream1, streams2):\n",
    "         \n",
    "    for i in range(streams2.n_cells):   \n",
    "        stream2 = streams2.cell_points(i)\n",
    "        if(stream1[0][0] == stream2[0][0]):\n",
    "            return stream2\n",
    "    return None\n",
    "            "
   ]
  },
  {
   "cell_type": "code",
   "execution_count": 62,
   "metadata": {},
   "outputs": [],
   "source": [
    "plo = pv.Plotter()\n",
    "boundary = mm32.decimate_boundary().extract_all_edges()\n",
    "plo.add_mesh(boundary, color='grey', opacity=.99)\n",
    "\n",
    "def plot_streamline(value):\n",
    "    pp = ss.cell_points(int(value))\n",
    "    pp2 = find_match(pp, ss2)\n",
    "    if pp2.any():\n",
    "        plo.add_mesh(pp2, color='green', name='points2')\n",
    "    plo.add_mesh(pp, color='red', name='points')\n",
    "    total_error = compute_error(pp, pp2)\n",
    "    plo.add_text(f'Total Error : {total_error}', name='error')\n",
    "    \n"
   ]
  },
  {
   "cell_type": "code",
   "execution_count": 63,
   "metadata": {},
   "outputs": [
    {
     "name": "stdout",
     "output_type": "stream",
     "text": [
      "Total Error : 0.007435751703077735\n"
     ]
    },
    {
     "data": {
      "application/vnd.jupyter.widget-view+json": {
       "model_id": "97a1199fc5dd4f2bbe23e9d8f4be0239",
       "version_major": 2,
       "version_minor": 0
      },
      "text/plain": [
       "ViewInteractiveWidget(height=768, layout=Layout(height='auto', width='100%'), width=1024)"
      ]
     },
     "metadata": {},
     "output_type": "display_data"
    }
   ],
   "source": [
    "plo.add_slider_widget(plot_streamline, [0,ss.n_cells], title='Streamline ID', value=0)\n",
    "plo.show()"
   ]
  }
 ],
 "metadata": {
  "interpreter": {
   "hash": "e1544be3cfcd25960d8e00eace988acceb41ff3a4312f7e2c9ed99989dda4605"
  },
  "kernelspec": {
   "display_name": "Python 3.9.10 ('vtk-py-env': venv)",
   "language": "python",
   "name": "python3"
  },
  "language_info": {
   "codemirror_mode": {
    "name": "ipython",
    "version": 3
   },
   "file_extension": ".py",
   "mimetype": "text/x-python",
   "name": "python",
   "nbconvert_exporter": "python",
   "pygments_lexer": "ipython3",
   "version": "3.9.10"
  },
  "orig_nbformat": 4
 },
 "nbformat": 4,
 "nbformat_minor": 2
}
