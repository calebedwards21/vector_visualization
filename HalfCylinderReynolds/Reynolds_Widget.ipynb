{
 "cells": [
  {
   "cell_type": "code",
   "execution_count": 1,
   "metadata": {},
   "outputs": [],
   "source": [
    "import numpy as np\n",
    "import pyvista as pv\n",
    "import os\n",
    "from scipy import interpolate\n",
    "import matplotlib.pyplot as plt"
   ]
  },
  {
   "cell_type": "code",
   "execution_count": 2,
   "metadata": {},
   "outputs": [],
   "source": [
    "def create_base_streamlines(mesh):\n",
    "    w,v,u = mesh.point_data['w'], mesh.point_data['v'], mesh.point_data['u']\n",
    "\n",
    "    vectors = np.empty((mesh.n_points, 3))\n",
    "    vectors[:,0] = u\n",
    "    vectors[:,1] = v\n",
    "    vectors[:,2] = w\n",
    "\n",
    "    mesh['vectors'] = vectors\n",
    "\n",
    "    streamlines, seed_pts = mesh.streamlines(\n",
    "        'vectors', \n",
    "        return_source=True,\n",
    "        n_points=100,\n",
    "        source_radius=1.5,\n",
    "        source_center=(6.0,0,0), \n",
    "        # pointa=(-0.5, -1.5, -0.5),\n",
    "        # pointb=(-0.5, 1.5, 0.5)\n",
    "    )\n",
    "    \n",
    "    return streamlines, seed_pts"
   ]
  },
  {
   "cell_type": "code",
   "execution_count": 3,
   "metadata": {},
   "outputs": [],
   "source": [
    "def compute_downsampled_streamlines(s, seeds, base_mesh):\n",
    "    '''\n",
    "        Computes streamlines from seed points and down sample size\n",
    "    '''\n",
    "    w,v,u = base_mesh.point_data['w'], base_mesh.point_data['v'], base_mesh.point_data['u']\n",
    "\n",
    "    u.shape = v.shape = w.shape = base_mesh.dimensions\n",
    "\n",
    "\n",
    "    # Down Sample / Decimate\n",
    "    u = u[::s, ::s, ::s] \n",
    "    v = v[::s, ::s, ::s]\n",
    "    w = w[::s, ::s, ::s]\n",
    "\n",
    "    dims = u.shape\n",
    "\n",
    "    u = u.flatten()\n",
    "    v = v.flatten()\n",
    "    w = w.flatten()\n",
    "\n",
    "    vectors = np.empty((int(len(u)), 3))\n",
    "    vectors[:,0] = u\n",
    "    vectors[:,1] = v\n",
    "    vectors[:,2] = w\n",
    "\n",
    "    mesh = pv.UniformGrid(\n",
    "        dims=dims,\n",
    "        spacing=tuple([x*s for x in list(base_mesh.spacing)]),\n",
    "        origin=base_mesh.origin\n",
    "    )\n",
    "\n",
    "    mesh['vectors'] = vectors\n",
    "    \n",
    "    streamlines = mesh.streamlines_from_source(\n",
    "        vectors='vectors', \n",
    "        source=seeds\n",
    "    )\n",
    "    \n",
    "    return streamlines, mesh"
   ]
  },
  {
   "cell_type": "code",
   "execution_count": 4,
   "metadata": {},
   "outputs": [],
   "source": [
    "def entry_point(filename):\n",
    "    mesh = pv.read(filename)\n",
    "    s, seed_pts = create_base_streamlines(mesh)\n",
    "    s2, m2 = compute_downsampled_streamlines(2, seed_pts, mesh)\n",
    "    s4, m4 = compute_downsampled_streamlines(4, seed_pts, mesh)\n",
    "    s8, m8 = compute_downsampled_streamlines(8, seed_pts, mesh)\n",
    "    s16, m16 = compute_downsampled_streamlines(16, seed_pts, mesh)\n",
    "    s32, m32 = compute_downsampled_streamlines(32, seed_pts, mesh)\n",
    "    s64, m64 = compute_downsampled_streamlines(64, seed_pts, mesh)\n",
    "    return (s, s2, s4, s8, s16, s32, s64), (mesh, m2, m4, m8, m16, m32, m64)"
   ]
  },
  {
   "cell_type": "code",
   "execution_count": 5,
   "metadata": {},
   "outputs": [],
   "source": [
    "reynolds160 = '.\\\\Data\\\\Structured160\\\\halfcylinder-2.00.vti'\n",
    "# reynolds640 = '.\\\\Data\\\\Structured640\\\\halfcylinder-0.00.vti'\n",
    "(s, s2, s4, s8, s16, s32, s64), (m, m2, m4, m8, m16, m32, m64) = entry_point(reynolds160)\n",
    "# k, k2, k4, k8, k16, k32, k64 = entry_point(reynolds640)"
   ]
  },
  {
   "cell_type": "code",
   "execution_count": 6,
   "metadata": {},
   "outputs": [],
   "source": [
    "p = pv.Plotter()\n",
    "\n",
    "def plot_streamlines(value):\n",
    "    error = int(value)\n",
    "    streamlines = s\n",
    "    mesh = m\n",
    "    if error >= 2 and error < 4:\n",
    "        streamlines = s2\n",
    "        mesh = m2\n",
    "    elif error >= 4 and error < 8:\n",
    "        streamlines = s4\n",
    "        mesh = m4\n",
    "    elif error >= 8 and error < 16:\n",
    "        streamlines = s8\n",
    "        mesh = m8\n",
    "    elif error >= 16 and error < 32:\n",
    "        streamlines = s16\n",
    "        mesh = m16\n",
    "    elif error >= 32 and error < 64:\n",
    "        streamlines = s32\n",
    "        mesh = m32\n",
    "    elif error >= 64:\n",
    "        streamlines = s64                    \n",
    "        mesh = m64\n",
    "    \n",
    "    boundary = mesh.decimate_boundary().extract_all_edges()\n",
    "    # p.add_mesh(boundary, color='grey', opacity=.75)\n",
    "    p.add_mesh(streamlines.tube(radius=0.02))\n",
    "    "
   ]
  },
  {
   "cell_type": "code",
   "execution_count": 7,
   "metadata": {},
   "outputs": [
    {
     "data": {
      "application/vnd.jupyter.widget-view+json": {
       "model_id": "f45ef90c811d4e5cbef9ea38c50f94cb",
       "version_major": 2,
       "version_minor": 0
      },
      "text/plain": [
       "ViewInteractiveWidget(height=768, layout=Layout(height='auto', width='100%'), width=1024)"
      ]
     },
     "metadata": {},
     "output_type": "display_data"
    }
   ],
   "source": [
    "p.add_slider_widget(plot_streamlines, [0, 64], title='Downsample Size')\n",
    "p.show()"
   ]
  },
  {
   "cell_type": "code",
   "execution_count": 8,
   "metadata": {},
   "outputs": [],
   "source": [
    "def compute_errors_helper(s1, s2):\n",
    "    # Distance between each point in streamline\n",
    "    dv_1 = s1[1:,:] - s1[:-1,:]\n",
    "    dv_2 = s2[1:,:] - s2[:-1,:]\n",
    "\n",
    "    # Length / Magnitude of each delta t\n",
    "    dl_1 = np.sqrt(np.sum(dv_1**2, axis=1))\n",
    "    dl_2 = np.sqrt(np.sum(dv_2**2, axis=1))\n",
    "\n",
    "    t1 = np.r_[0, np.cumsum(dl_1)]\n",
    "    t2 = np.r_[0, np.cumsum(dl_2)]\n",
    "\n",
    "    # Lengths of streamline\n",
    "    length_1 = t1[-1]\n",
    "    length_2 = t2[-1]\n",
    "\n",
    "    x1 = interpolate.interp1d(t1, s1[:,0])\n",
    "    y1 = interpolate.interp1d(t1, s1[:,1])\n",
    "    z1 = interpolate.interp1d(t1, s1[:,2])\n",
    "    p1 = lambda t : np.c_[x1(t), y1(t), z1(t)]\n",
    "\n",
    "    x2 = interpolate.interp1d(t2, s2[:,0])\n",
    "    y2 = interpolate.interp1d(t2, s2[:,1])\n",
    "    z2 = interpolate.interp1d(t2, s2[:,2])\n",
    "    p2 = lambda t : np.c_[x2(t), y2(t), z2(t)]\n",
    "\n",
    "    t = np.linspace(0, min(length_1, length_2), 11)    \n",
    "    ind_error = np.linalg.norm(p1(t) - p2(t), axis=1) # Same as magnitude\n",
    "    tot_error = np.sum(ind_error)\n",
    "    rms_error = np.sqrt(np.mean(ind_error**2))\n",
    "    \n",
    "    return t, ind_error, tot_error, rms_error"
   ]
  },
  {
   "cell_type": "code",
   "execution_count": 9,
   "metadata": {},
   "outputs": [],
   "source": [
    "def compute_errors(streams_base, streams_sampled):\n",
    "    ind_errors = []\n",
    "    tot_errors = []\n",
    "    rms_errors = []\n",
    "    \n",
    "    streams_1 = streams_base.copy()\n",
    "    streams_2 = streams_sampled.copy()\n",
    "    \n",
    "    for i in range(streams_2.n_cells):          \n",
    "        stream_2 = streams_2.cell_points(i)\n",
    "        for j in range(streams_1.n_cells):   \n",
    "            stream_1 = streams_1.cell_points(j)\n",
    "        \n",
    "            if(stream_1[0][0] == stream_2[0][0]):\n",
    "                streams_1 = streams_1.remove_cells(j)  \n",
    "                t, ind_error, tot_error, rms_error = compute_errors_helper(stream_1, stream_2)\n",
    "                ind_errors.append(ind_error)\n",
    "                tot_errors.append(tot_error)\n",
    "                rms_errors.append(rms_error)\n",
    "                break\n",
    "    \n",
    "    return t, ind_errors, tot_errors, rms_errors"
   ]
  },
  {
   "cell_type": "code",
   "execution_count": 10,
   "metadata": {},
   "outputs": [],
   "source": [
    "plo = pv.Plotter()\n",
    "boundary = m32.decimate_boundary().extract_all_edges()\n",
    "plo.add_mesh(boundary, color='grey', opacity=.99)\n",
    "def plot_streamline(value):\n",
    "    p = s.cell_points(int(value))\n",
    "    # p2 = \n",
    "    plo.add_mesh(p, color='red', name='spoints')\n"
   ]
  },
  {
   "cell_type": "code",
   "execution_count": 11,
   "metadata": {},
   "outputs": [
    {
     "data": {
      "application/vnd.jupyter.widget-view+json": {
       "model_id": "b4f93c6615bf4760a0abc4547071df47",
       "version_major": 2,
       "version_minor": 0
      },
      "text/plain": [
       "ViewInteractiveWidget(height=768, layout=Layout(height='auto', width='100%'), width=1024)"
      ]
     },
     "metadata": {},
     "output_type": "display_data"
    }
   ],
   "source": [
    "plo.add_slider_widget(plot_streamline, [0,s.n_cells])\n",
    "plo.show()"
   ]
  }
 ],
 "metadata": {
  "interpreter": {
   "hash": "e1544be3cfcd25960d8e00eace988acceb41ff3a4312f7e2c9ed99989dda4605"
  },
  "kernelspec": {
   "display_name": "Python 3.9.10 ('vtk-py-env': venv)",
   "language": "python",
   "name": "python3"
  },
  "language_info": {
   "codemirror_mode": {
    "name": "ipython",
    "version": 3
   },
   "file_extension": ".py",
   "mimetype": "text/x-python",
   "name": "python",
   "nbconvert_exporter": "python",
   "pygments_lexer": "ipython3",
   "version": "3.9.10"
  },
  "orig_nbformat": 4
 },
 "nbformat": 4,
 "nbformat_minor": 2
}
