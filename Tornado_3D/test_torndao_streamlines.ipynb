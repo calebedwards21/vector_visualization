{
 "cells": [
  {
   "cell_type": "markdown",
   "metadata": {},
   "source": [
    "# Tornado Synthetic Dataset - 3D Steady\n",
    "> [cgl datasets](https://cgl.ethz.ch/research/visualization/data.php)\n",
    "> Steady means no time is involved"
   ]
  },
  {
   "cell_type": "code",
   "execution_count": 1,
   "metadata": {},
   "outputs": [],
   "source": [
    "import numpy as np\n",
    "import pyvista as pv"
   ]
  },
  {
   "cell_type": "code",
   "execution_count": 2,
   "metadata": {},
   "outputs": [],
   "source": [
    "file = '..\\\\Data\\\\tornado3d.vti'\n",
    "mesh = pv.read(file)"
   ]
  },
  {
   "cell_type": "code",
   "execution_count": 14,
   "metadata": {},
   "outputs": [
    {
     "name": "stdout",
     "output_type": "stream",
     "text": [
      "[[-0.12064955 -1.93279207 -0.01465584]\n",
      " [-0.07151286 -1.94863772 -0.01521232]\n",
      " [-0.02303854 -1.96307242 -0.01575776]\n",
      " ...\n",
      " [ 1.77152324  0.57372099  0.        ]\n",
      " [ 1.74369514  0.60435438  0.        ]\n",
      " [ 1.71609509  0.63592207  0.        ]]\n"
     ]
    }
   ],
   "source": [
    "w,v,u = mesh.point_data['w'], mesh.point_data['v'], mesh.point_data['u']\n",
    "\n",
    "vectors = np.empty((mesh.n_points, 3))\n",
    "vectors[:,0] = u\n",
    "vectors[:,1] = v\n",
    "vectors[:,2] = w\n",
    "\n",
    "print(vectors)\n",
    "mesh['vectors'] = vectors\n"
   ]
  },
  {
   "cell_type": "code",
   "execution_count": 15,
   "metadata": {},
   "outputs": [
    {
     "name": "stdout",
     "output_type": "stream",
     "text": [
      "[[-0.12064955 -1.93279207 -0.01465584]\n",
      " [-0.07151286 -1.94863772 -0.01521232]\n",
      " [-0.02303854 -1.96307242 -0.01575776]\n",
      " ...\n",
      " [ 1.77152324  0.57372099  0.        ]\n",
      " [ 1.74369514  0.60435438  0.        ]\n",
      " [ 1.71609509  0.63592207  0.        ]]\n"
     ]
    }
   ],
   "source": [
    "print(mesh['vectors'])"
   ]
  },
  {
   "cell_type": "code",
   "execution_count": 4,
   "metadata": {},
   "outputs": [],
   "source": [
    "# https://docs.pyvista.org/api/core/_autosummary/pyvista.RectilinearGrid.streamlines.html\n",
    "\n",
    "boundary = mesh.decimate_boundary().extract_all_edges()\n",
    "\n",
    "# Sphere Source\n",
    "stream1, seed_pts = mesh.streamlines(\n",
    "    'vectors', \n",
    "    return_source=True,\n",
    "    n_points=1,\n",
    "    source_radius=0,\n",
    "    source_center=(-4e-11,-4e-11,-4e-11)\n",
    ")"
   ]
  },
  {
   "cell_type": "code",
   "execution_count": 16,
   "metadata": {},
   "outputs": [
    {
     "name": "stdout",
     "output_type": "stream",
     "text": [
      "[[-0.06723229 -1.96622484 -0.03207966]\n",
      " [-0.04520892 -1.93305769 -0.0096692 ]\n",
      " [ 0.01322037 -1.95719396  0.04390694]\n",
      " ...\n",
      " [ 1.74254669  0.54094335  0.04933983]\n",
      " [ 1.73776451  0.56120097  0.04262678]\n",
      " [ 1.69192077  0.60731638 -0.05661044]]\n"
     ]
    }
   ],
   "source": [
    "vectors2 = vectors.copy()\n",
    "m = np.linalg.norm(vectors, axis=1).max() * 0.01\n",
    "num = np.random.random_sample(vectors.shape) * 2*m - m\n",
    "vectors2 += num\n",
    "\n",
    "print(vectors2)\n",
    "\n",
    "mesh2 = pv.UniformGrid(\n",
    "    # dims=dims,\n",
    "    # spacing=tuple([x*s for x in list(mesh.spacing)]),\n",
    "    dims=mesh.dimensions,\n",
    "    spacing=mesh.spacing,\n",
    "    origin=mesh.origin\n",
    ")\n",
    "\n",
    "mesh2['vectors2'] = vectors2\n"
   ]
  },
  {
   "cell_type": "code",
   "execution_count": 17,
   "metadata": {},
   "outputs": [
    {
     "name": "stdout",
     "output_type": "stream",
     "text": [
      "[[-0.06723229 -1.96622484 -0.03207966]\n",
      " [-0.04520892 -1.93305769 -0.0096692 ]\n",
      " [ 0.01322037 -1.95719396  0.04390694]\n",
      " ...\n",
      " [ 1.74254669  0.54094335  0.04933983]\n",
      " [ 1.73776451  0.56120097  0.04262678]\n",
      " [ 1.69192077  0.60731638 -0.05661044]]\n"
     ]
    }
   ],
   "source": [
    "print(mesh2['vectors2'])"
   ]
  },
  {
   "cell_type": "code",
   "execution_count": 20,
   "metadata": {},
   "outputs": [],
   "source": [
    "# https://docs.pyvista.org/api/core/_autosummary/pyvista.RectilinearGrid.streamlines.html\n",
    "\n",
    "boundary = mesh2.decimate_boundary().extract_all_edges()\n",
    "\n",
    "# Sphere Source\n",
    "stream2 = mesh2.streamlines_from_source(\n",
    "    vectors='vectors2', \n",
    "    source=seed_pts\n",
    ")"
   ]
  },
  {
   "cell_type": "code",
   "execution_count": 21,
   "metadata": {},
   "outputs": [
    {
     "name": "stdout",
     "output_type": "stream",
     "text": [
      "PolyData (0x1b08e167ee0)\n",
      "  N Cells:\t2\n",
      "  N Points:\t252\n",
      "  X Bounds:\t-3.981e+00, 1.036e+00\n",
      "  Y Bounds:\t-3.116e+00, 2.469e+00\n",
      "  Z Bounds:\t-1.751e+00, 6.171e-01\n",
      "  N Arrays:\t8\n",
      "\n"
     ]
    }
   ],
   "source": [
    "print(stream2)"
   ]
  },
  {
   "cell_type": "code",
   "execution_count": 22,
   "metadata": {},
   "outputs": [
    {
     "name": "stdout",
     "output_type": "stream",
     "text": [
      "[-3.99999998e-11 -3.99999998e-11 -3.99999998e-11]\n",
      "[-3.99999998e-11 -3.99999998e-11 -3.99999998e-11]\n"
     ]
    },
    {
     "data": {
      "application/vnd.jupyter.widget-view+json": {
       "model_id": "143ad7b9f56c4bf999ba836446c5b1cf",
       "version_major": 2,
       "version_minor": 0
      },
      "text/plain": [
       "ViewInteractiveWidget(height=768, layout=Layout(height='auto', width='100%'), width=1024)"
      ]
     },
     "metadata": {},
     "output_type": "display_data"
    }
   ],
   "source": [
    "a = 0\n",
    "\n",
    "print(stream1.cell_points(a)[0,:])\n",
    "print(stream2.cell_points(a)[0,:])\n",
    "\n",
    "p = pv.Plotter()\n",
    "p.add_mesh(stream1.cell_points(a), color='red')\n",
    "p.add_mesh(stream2.cell_points(a), color='blue')\n",
    "p.add_mesh(boundary, color='grey', opacity=.25)\n",
    "p.show()"
   ]
  }
 ],
 "metadata": {
  "interpreter": {
   "hash": "e1544be3cfcd25960d8e00eace988acceb41ff3a4312f7e2c9ed99989dda4605"
  },
  "kernelspec": {
   "display_name": "Python 3.9.10 ('vtk-py-env': venv)",
   "language": "python",
   "name": "python3"
  },
  "language_info": {
   "codemirror_mode": {
    "name": "ipython",
    "version": 3
   },
   "file_extension": ".py",
   "mimetype": "text/x-python",
   "name": "python",
   "nbconvert_exporter": "python",
   "pygments_lexer": "ipython3",
   "version": "3.9.10"
  },
  "orig_nbformat": 4
 },
 "nbformat": 4,
 "nbformat_minor": 2
}
