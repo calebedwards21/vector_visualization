{
 "cells": [
  {
   "cell_type": "markdown",
   "metadata": {},
   "source": [
    "# Tornado Synthetic Dataset - 3D Steady\n",
    "> [cgl datasets](https://cgl.ethz.ch/research/visualization/data.php)\n",
    "> Steady means no time is involved"
   ]
  },
  {
   "cell_type": "code",
   "execution_count": 1,
   "metadata": {},
   "outputs": [],
   "source": [
    "import numpy as np\n",
    "import pyvista as pv"
   ]
  },
  {
   "cell_type": "code",
   "execution_count": 2,
   "metadata": {},
   "outputs": [],
   "source": [
    "file = '..\\\\Data\\\\tornado3d.vti'\n",
    "mesh = pv.read(file)"
   ]
  },
  {
   "cell_type": "code",
   "execution_count": 3,
   "metadata": {},
   "outputs": [],
   "source": [
    "w,v,u = mesh.point_data['w'], mesh.point_data['v'], mesh.point_data['u']\n",
    "\n",
    "vectors = np.empty((mesh.n_points, 3))\n",
    "vectors[:,0] = u\n",
    "vectors[:,1] = v\n",
    "vectors[:,2] = w"
   ]
  },
  {
   "cell_type": "code",
   "execution_count": 4,
   "metadata": {},
   "outputs": [],
   "source": [
    "# https://docs.pyvista.org/api/core/_autosummary/pyvista.RectilinearGrid.streamlines.html\n",
    "\n",
    "mesh['vectors'] = vectors\n",
    "\n",
    "boundary = mesh.decimate_boundary().extract_all_edges()\n",
    "\n",
    "# Sphere Source\n",
    "stream1, seed_pts = mesh.streamlines(\n",
    "    'vectors', \n",
    "    return_source=True,\n",
    "    n_points=1,\n",
    "    source_radius=0,\n",
    "    source_center=(-4e-11,-4e-11,-4e-11)\n",
    ")"
   ]
  },
  {
   "cell_type": "code",
   "execution_count": 5,
   "metadata": {},
   "outputs": [],
   "source": [
    "m = np.linalg.norm(vectors, axis=1).max() * 0.01\n",
    "num = np.random.random_sample(vectors.shape) * 2*m - m\n",
    "vectors += num"
   ]
  },
  {
   "cell_type": "code",
   "execution_count": 6,
   "metadata": {},
   "outputs": [],
   "source": [
    "# https://docs.pyvista.org/api/core/_autosummary/pyvista.RectilinearGrid.streamlines.html\n",
    "\n",
    "mesh['vectors'] = vectors\n",
    "\n",
    "boundary = mesh.decimate_boundary().extract_all_edges()\n",
    "\n",
    "# Sphere Source\n",
    "stream2 = mesh.streamlines_from_source(\n",
    "    vectors=vectors, \n",
    "    source=seed_pts\n",
    ")"
   ]
  },
  {
   "cell_type": "code",
   "execution_count": 8,
   "metadata": {},
   "outputs": [
    {
     "name": "stdout",
     "output_type": "stream",
     "text": [
      "[-3.99999998e-11 -3.99999998e-11 -3.99999998e-11]\n",
      "[-3.99999998e-11 -3.99999998e-11 -3.99999998e-11]\n"
     ]
    },
    {
     "data": {
      "application/vnd.jupyter.widget-view+json": {
       "model_id": "c3278bac526b4cf499b69628914bb7d9",
       "version_major": 2,
       "version_minor": 0
      },
      "text/plain": [
       "ViewInteractiveWidget(height=768, layout=Layout(height='auto', width='100%'), width=1024)"
      ]
     },
     "metadata": {},
     "output_type": "display_data"
    }
   ],
   "source": [
    "a = 0\n",
    "\n",
    "print(stream1.cell_points(a)[0,:])\n",
    "print(stream2.cell_points(a)[0,:])\n",
    "\n",
    "p = pv.Plotter()\n",
    "p.add_mesh(stream1.cell_points(a), lighting=False, color='red')\n",
    "p.add_mesh(stream2.cell_points(a), lighting=False, color='blue')\n",
    "p.add_mesh(boundary, color='grey', opacity=.25)\n",
    "p.show()"
   ]
  }
 ],
 "metadata": {
  "interpreter": {
   "hash": "e1544be3cfcd25960d8e00eace988acceb41ff3a4312f7e2c9ed99989dda4605"
  },
  "kernelspec": {
   "display_name": "Python 3.9.10 ('vtk-py-env': venv)",
   "language": "python",
   "name": "python3"
  },
  "language_info": {
   "codemirror_mode": {
    "name": "ipython",
    "version": 3
   },
   "file_extension": ".py",
   "mimetype": "text/x-python",
   "name": "python",
   "nbconvert_exporter": "python",
   "pygments_lexer": "ipython3",
   "version": "3.9.10"
  },
  "orig_nbformat": 4
 },
 "nbformat": 4,
 "nbformat_minor": 2
}
