{
 "cells": [
  {
   "cell_type": "markdown",
   "metadata": {},
   "source": [
    "# Tornado Synthetic Dataset - 3D Steady\n",
    "> [cgl datasets](https://cgl.ethz.ch/research/visualization/data.php)"
   ]
  },
  {
   "cell_type": "code",
   "execution_count": 133,
   "metadata": {},
   "outputs": [],
   "source": [
    "import numpy as np\n",
    "import pyvista as pv"
   ]
  },
  {
   "cell_type": "code",
   "execution_count": 134,
   "metadata": {},
   "outputs": [],
   "source": [
    "file = '..\\\\Data\\\\tornado3d.vti'\n",
    "mesh = pv.read(file)"
   ]
  },
  {
   "cell_type": "code",
   "execution_count": 135,
   "metadata": {},
   "outputs": [],
   "source": [
    "w,v,u = mesh.point_data['w'], mesh.point_data['v'], mesh.point_data['u']\n",
    "\n",
    "vectors = np.empty((mesh.n_points, 3))\n",
    "vectors[:,0] = u\n",
    "vectors[:,1] = v\n",
    "vectors[:,2] = w\n",
    "\n",
    "mesh['vectors'] = vectors\n"
   ]
  },
  {
   "cell_type": "code",
   "execution_count": 136,
   "metadata": {},
   "outputs": [],
   "source": [
    "# Sphere Source\n",
    "stream1, seed_pts = mesh.streamlines(\n",
    "    'vectors', \n",
    "    return_source=True,\n",
    "    n_points=1,\n",
    "    source_radius=0,\n",
    "    source_center=(-4e-11,-4e-11,-4e-11),\n",
    "    integration_direction='forward'\n",
    ")"
   ]
  },
  {
   "cell_type": "code",
   "execution_count": 137,
   "metadata": {},
   "outputs": [],
   "source": [
    "s = 2\n",
    "\n",
    "w2,v2,u2 = mesh.point_data['w'], mesh.point_data['v'], mesh.point_data['u']\n",
    "\n",
    "u2.shape = v2.shape = w2.shape = mesh.dimensions\n",
    "\n",
    "\n",
    "# Down Sample / Decimate\n",
    "u2 = u2[::s, ::s, ::s] \n",
    "v2 = v2[::s, ::s, ::s]\n",
    "w2 = w2[::s, ::s, ::s]\n",
    "\n",
    "dims = u2.shape\n",
    "\n",
    "# Flatten vectors\n",
    "# u2 = u2.flatten(order='F')\n",
    "# v2 = v2.flatten(order='F')\n",
    "# w2 = w2.flatten(order='F')\n",
    "\n",
    "u2 = u2.flatten()\n",
    "v2 = v2.flatten()\n",
    "w2 = w2.flatten()\n",
    "\n",
    "vectors2 = np.empty((int(len(u2)), 3))\n",
    "vectors2[:,0] = u2\n",
    "vectors2[:,1] = v2\n",
    "vectors2[:,2] = w2\n",
    "\n",
    "mesh2 = pv.UniformGrid(\n",
    "    dims=dims,\n",
    "    spacing=tuple([x*s for x in list(mesh.spacing)]),\n",
    "    origin=mesh.origin\n",
    ")\n",
    "\n",
    "mesh2['vectors2'] = vectors2\n"
   ]
  },
  {
   "cell_type": "code",
   "execution_count": 138,
   "metadata": {},
   "outputs": [],
   "source": [
    "stream2 = mesh2.streamlines_from_source(\n",
    "    vectors='vectors2', \n",
    "    source=seed_pts,\n",
    "    integration_direction='forward'\n",
    ")"
   ]
  },
  {
   "cell_type": "code",
   "execution_count": 139,
   "metadata": {},
   "outputs": [
    {
     "name": "stdout",
     "output_type": "stream",
     "text": [
      "[-3.99999998e-11 -3.99999998e-11 -3.99999998e-11]\n",
      "[-3.99999998e-11 -3.99999998e-11 -3.99999998e-11]\n"
     ]
    },
    {
     "data": {
      "application/vnd.jupyter.widget-view+json": {
       "model_id": "f7965f0a5f504e3485c6e30c4d0b2428",
       "version_major": 2,
       "version_minor": 0
      },
      "text/plain": [
       "ViewInteractiveWidget(height=768, layout=Layout(height='auto', width='100%'), width=1024)"
      ]
     },
     "metadata": {},
     "output_type": "display_data"
    }
   ],
   "source": [
    "a = 0\n",
    "\n",
    "print(stream1.cell_points(a)[0,:])\n",
    "print(stream2.cell_points(a)[0,:])\n",
    "\n",
    "p = pv.Plotter()\n",
    "p.add_mesh(stream1.cell_points(a), color='red')\n",
    "p.add_mesh(stream2.cell_points(a), color='blue')\n",
    "p.show()"
   ]
  },
  {
   "cell_type": "code",
   "execution_count": 140,
   "metadata": {},
   "outputs": [
    {
     "name": "stdout",
     "output_type": "stream",
     "text": [
      "0\n"
     ]
    }
   ],
   "source": [
    "from scipy import interpolate\n",
    "\n",
    "errors = []\n",
    "for i in range(stream1.n_cells):\n",
    "    print(i)\n",
    "    stream_1 = stream1.cell_points(i).copy()\n",
    "    stream_2 = stream2.cell_points(i).copy()\n",
    "    \n",
    "    # Distance between each point in streamline\n",
    "    dv_1 = stream_1[1:,:] - stream_1[:-1,:]\n",
    "    dv_2 = stream_2[1:,:] - stream_2[:-1,:]\n",
    "    \n",
    "    # Length / Magnitude of each delta t\n",
    "    dl_1 = np.sqrt(np.sum(dv_1**2, axis=1))\n",
    "    dl_2 = np.sqrt(np.sum(dv_2**2, axis=1))\n",
    "    \n",
    "    t1 = np.r_[0, np.cumsum(dl_1)]\n",
    "    t2 = np.r_[0, np.cumsum(dl_2)]\n",
    "   \n",
    "    # Lengths of streamline\n",
    "    length_1 = t1[-1]\n",
    "    length_2 = t2[-1]\n",
    "    \n",
    "    print(length_1)\n",
    "    print(length_2)\n",
    "    \n",
    "    x1 = interpolate.interp1d(t1, stream_1[:,0])\n",
    "    y1 = interpolate.interp1d(t1, stream_1[:,1])\n",
    "    z1 = interpolate.interp1d(t1, stream_1[:,2])\n",
    "    p1 = lambda t : np.c_[x1(t), y1(t), z1(t)]\n",
    "    \n",
    "    x2 = interpolate.interp1d(t2, stream_2[:,0])\n",
    "    y2 = interpolate.interp1d(t2, stream_2[:,1])\n",
    "    z2 = interpolate.interp1d(t2, stream_2[:,2])\n",
    "    p2 = lambda t : np.c_[x2(t), y2(t), z2(t)]\n",
    "    \n",
    "    t = np.linspace(0, min(length_1, length_2), 11)    \n",
    "    ind_error = np.linalg.norm(p1(t) - p2(t), axis=1) # Same as magnitude\n",
    "    tot_error = np.sum(ind_error)\n",
    "    rms_error = np.sqrt(np.mean(ind_error**2))\n",
    "    # print(ind_error.shape)\n",
    "\n",
    "    errors.append(ind_error)"
   ]
  },
  {
   "cell_type": "code",
   "execution_count": 141,
   "metadata": {},
   "outputs": [
    {
     "data": {
      "image/png": "[encoded data removed]",
      "text/plain": [
       "<Figure size 432x288 with 1 Axes>"
      ]
     },
     "metadata": {
      "needs_background": "light"
     },
     "output_type": "display_data"
    }
   ],
   "source": [
    "import matplotlib.pyplot as plt\n",
    "for i in range(len(errors)):\n",
    "    plt.plot(t, errors[i], label=\"error {i}\")\n",
    "# plt.legend()\n",
    "plt.show()"
   ]
  }
 ],
 "metadata": {
  "interpreter": {
   "hash": "e1544be3cfcd25960d8e00eace988acceb41ff3a4312f7e2c9ed99989dda4605"
  },
  "kernelspec": {
   "display_name": "Python 3.9.10 ('vtk-py-env': venv)",
   "language": "python",
   "name": "python3"
  },
  "language_info": {
   "codemirror_mode": {
    "name": "ipython",
    "version": 3
   },
   "file_extension": ".py",
   "mimetype": "text/x-python",
   "name": "python",
   "nbconvert_exporter": "python",
   "pygments_lexer": "ipython3",
   "version": "3.9.10"
  },
  "orig_nbformat": 4
 },
 "nbformat": 4,
 "nbformat_minor": 2
}
