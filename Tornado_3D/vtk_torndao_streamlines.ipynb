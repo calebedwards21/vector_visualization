{
 "cells": [
  {
   "cell_type": "markdown",
   "metadata": {},
   "source": [
    "# Tornado Synthetic Dataset - 3D Steady\n",
    "> [cgl datasets](https://cgl.ethz.ch/research/visualization/data.php)\n",
    "> Steady means no time is involved"
   ]
  },
  {
   "cell_type": "code",
   "execution_count": 15,
   "metadata": {},
   "outputs": [],
   "source": [
    "import numpy as np\n",
    "import pyvista as pv"
   ]
  },
  {
   "cell_type": "code",
   "execution_count": 16,
   "metadata": {},
   "outputs": [],
   "source": [
    "file = '..\\\\Data\\\\tornado3d.vti'\n",
    "mesh = pv.read(file)"
   ]
  },
  {
   "cell_type": "code",
   "execution_count": 17,
   "metadata": {},
   "outputs": [],
   "source": [
    "w,v,u = mesh.point_data['w'], mesh.point_data['v'], mesh.point_data['u']\n",
    "\n",
    "vectors = np.empty((mesh.n_points, 3))\n",
    "vectors[:,0] = u\n",
    "vectors[:,1] = v\n",
    "vectors[:,2] = w\n",
    "\n",
    "mesh['vectors'] = vectors\n"
   ]
  },
  {
   "cell_type": "code",
   "execution_count": 18,
   "metadata": {},
   "outputs": [],
   "source": [
    "# Sphere Source\n",
    "stream1, seed_pts = mesh.streamlines(\n",
    "    'vectors', \n",
    "    return_source=True,\n",
    "    n_points=1,\n",
    "    source_radius=0,\n",
    "    source_center=(-4e-11,-4e-11,-4e-11)\n",
    ")"
   ]
  },
  {
   "cell_type": "code",
   "execution_count": 19,
   "metadata": {},
   "outputs": [],
   "source": [
    "s = 2\n",
    "\n",
    "w2,v2,u2 = mesh.point_data['w'], mesh.point_data['v'], mesh.point_data['u']\n",
    "\n",
    "u2.shape = v2.shape = w2.shape = mesh.dimensions\n",
    "\n",
    "\n",
    "# Down Sample / Decimate\n",
    "u2 = u2[::s, ::s, ::s] \n",
    "v2 = v2[::s, ::s, ::s]\n",
    "w2 = w2[::s, ::s, ::s]\n",
    "\n",
    "dims = u2.shape\n",
    "\n",
    "# Flatten vectors\n",
    "u2 = u2.flatten(order='F')\n",
    "v2 = v2.flatten(order='F')\n",
    "w2 = w2.flatten(order='F')\n",
    "\n",
    "vectors2 = np.empty((int(len(u2)), 3))\n",
    "vectors2[:,0] = u2\n",
    "vectors2[:,1] = v2\n",
    "vectors2[:,2] = w2\n",
    "\n",
    "mesh2 = pv.UniformGrid(\n",
    "    dims=dims,\n",
    "    spacing=tuple([x*s for x in list(mesh.spacing)]),\n",
    "    origin=mesh.origin\n",
    ")\n",
    "\n",
    "mesh2['vectors2'] = vectors2\n"
   ]
  },
  {
   "cell_type": "code",
   "execution_count": 20,
   "metadata": {},
   "outputs": [],
   "source": [
    "stream2 = mesh2.streamlines_from_source(\n",
    "    vectors='vectors2', \n",
    "    source=seed_pts\n",
    ")"
   ]
  },
  {
   "cell_type": "code",
   "execution_count": 21,
   "metadata": {},
   "outputs": [
    {
     "name": "stdout",
     "output_type": "stream",
     "text": [
      "PolyData (0x1b7bb3fbd60)\n",
      "  N Cells:\t2\n",
      "  N Points:\t129\n",
      "  X Bounds:\t-7.499e+00, -4.000e-11\n",
      "  Y Bounds:\t-9.920e+00, 3.215e+00\n",
      "  Z Bounds:\t-1.195e+00, 1.695e-01\n",
      "  N Arrays:\t8\n",
      "\n"
     ]
    }
   ],
   "source": [
    "print(stream2)"
   ]
  },
  {
   "cell_type": "code",
   "execution_count": 22,
   "metadata": {},
   "outputs": [
    {
     "name": "stdout",
     "output_type": "stream",
     "text": [
      "[-3.99999998e-11 -3.99999998e-11 -3.99999998e-11]\n",
      "[-3.99999998e-11 -3.99999998e-11 -3.99999998e-11]\n"
     ]
    },
    {
     "data": {
      "application/vnd.jupyter.widget-view+json": {
       "model_id": "351759631f134384aad22af0f8aca95a",
       "version_major": 2,
       "version_minor": 0
      },
      "text/plain": [
       "ViewInteractiveWidget(height=768, layout=Layout(height='auto', width='100%'), width=1024)"
      ]
     },
     "metadata": {},
     "output_type": "display_data"
    }
   ],
   "source": [
    "a = 0\n",
    "\n",
    "print(stream1.cell_points(a)[0,:])\n",
    "print(stream2.cell_points(a)[0,:])\n",
    "\n",
    "p = pv.Plotter()\n",
    "p.add_mesh(stream1.cell_points(a), color='red')\n",
    "p.add_mesh(stream2.cell_points(a), color='blue')\n",
    "p.show()"
   ]
  }
 ],
 "metadata": {
  "interpreter": {
   "hash": "e1544be3cfcd25960d8e00eace988acceb41ff3a4312f7e2c9ed99989dda4605"
  },
  "kernelspec": {
   "display_name": "Python 3.9.10 ('vtk-py-env': venv)",
   "language": "python",
   "name": "python3"
  },
  "language_info": {
   "codemirror_mode": {
    "name": "ipython",
    "version": 3
   },
   "file_extension": ".py",
   "mimetype": "text/x-python",
   "name": "python",
   "nbconvert_exporter": "python",
   "pygments_lexer": "ipython3",
   "version": "3.9.10"
  },
  "orig_nbformat": 4
 },
 "nbformat": 4,
 "nbformat_minor": 2
}
