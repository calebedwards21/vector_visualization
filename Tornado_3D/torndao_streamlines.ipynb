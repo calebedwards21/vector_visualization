{
 "cells": [
  {
   "cell_type": "markdown",
   "metadata": {},
   "source": [
    "# Tornado Synthetic Dataset - 3D Steady\n",
    "> [cgl datasets](https://cgl.ethz.ch/research/visualization/data.php)\n",
    "> Steady means no time is involved"
   ]
  },
  {
   "cell_type": "code",
   "execution_count": 1,
   "metadata": {},
   "outputs": [],
   "source": [
    "import numpy as np\n",
    "import pyvista as pv\n",
    "np.set_printoptions(precision=3)"
   ]
  },
  {
   "cell_type": "code",
   "execution_count": 2,
   "metadata": {},
   "outputs": [
    {
     "name": "stdout",
     "output_type": "stream",
     "text": [
      "UniformGrid (0x22b481aafa0)\n",
      "  N Cells:\t2048383\n",
      "  N Points:\t2097152\n",
      "  X Bounds:\t-1.000e+01, 1.000e+01\n",
      "  Y Bounds:\t-1.000e+01, 1.000e+01\n",
      "  Z Bounds:\t-1.000e+01, 1.000e+01\n",
      "  Dimensions:\t128, 128, 128\n",
      "  Spacing:\t1.575e-01, 1.575e-01, 1.575e-01\n",
      "  N Arrays:\t3\n",
      "\n"
     ]
    }
   ],
   "source": [
    "file = '..\\\\Data\\\\tornado3d.vti'\n",
    "mesh = pv.read(file)\n",
    "print(mesh)"
   ]
  },
  {
   "cell_type": "code",
   "execution_count": 23,
   "metadata": {},
   "outputs": [
    {
     "name": "stdout",
     "output_type": "stream",
     "text": [
      "mesh dimensions : (128, 128, 128)\n",
      "128 * 128 * 128 = 2097152\n",
      "u shape : (2097152,)\n",
      "v shape : (2097152,)\n",
      "w shape : (2097152,)\n",
      "vectors shape : (2097152, 3)\n"
     ]
    }
   ],
   "source": [
    "# Get the magnitude from the vector data\n",
    "w,v,u = mesh.point_data['w'], mesh.point_data['v'], mesh.point_data['u']\n",
    "mag = (np.sqrt(u**2 + v**2 + w**2))\n",
    "\n",
    "# vectors = np.vstack((w,v,u)).T\n",
    "\n",
    "vectors = np.empty((mesh.n_points, 3))\n",
    "vectors[:,0] = u\n",
    "vectors[:,1] = v\n",
    "vectors[:,2] = w\n",
    "\n",
    "print(f'mesh dimensions : {mesh.dimensions}')\n",
    "print(f'128 * 128 * 128 = {128*128*128}')\n",
    "print(f'u shape : {u.shape}\\nv shape : {v.shape}\\nw shape : {w.shape}')\n",
    "print(f'vectors shape : {vectors.shape}')"
   ]
  },
  {
   "cell_type": "code",
   "execution_count": 26,
   "metadata": {},
   "outputs": [
    {
     "data": {
      "application/vnd.jupyter.widget-view+json": {
       "model_id": "4764139efd1e4383999a0a40d182175b",
       "version_major": 2,
       "version_minor": 0
      },
      "text/plain": [
       "ViewInteractiveWidget(height=768, layout=Layout(height='auto', width='100%'), width=1024)"
      ]
     },
     "metadata": {},
     "output_type": "display_data"
    }
   ],
   "source": [
    "# https://docs.pyvista.org/api/core/_autosummary/pyvista.RectilinearGrid.streamlines.html\n",
    "\n",
    "mesh['vectors'] = vectors\n",
    "\n",
    "boundary = mesh.decimate_boundary().extract_all_edges()\n",
    "\n",
    "# Sphere Source\n",
    "stream, src = mesh.streamlines(\n",
    "    'vectors', \n",
    "    return_source=True,\n",
    "    terminal_speed=0,\n",
    "    n_points=10,\n",
    "    source_radius=1,\n",
    "    source_center=(0,0,-9)\n",
    ")\n",
    "\n",
    "# Line Source\n",
    "# stream, src = mesh.streamlines(\n",
    "#     'vectors', \n",
    "#     return_source=True,\n",
    "#     terminal_speed=0,\n",
    "#     n_points=10,\n",
    "#     pointa=(-10, -10, -10),\n",
    "#     pointb=(10, 10, -10),\n",
    "#     progress_bar=True\n",
    "# )\n",
    "\n",
    "sargs=dict(vertical=True, title_font_size=16)\n",
    "p = pv.Plotter()\n",
    "p.add_mesh(stream.tube(radius=0.02), lighting=False, scalar_bar_args=sargs)\n",
    "p.add_mesh(src)\n",
    "p.add_mesh(boundary, color='grey', opacity=.25)\n",
    "p.show()"
   ]
  },
  {
   "cell_type": "code",
   "execution_count": 27,
   "metadata": {},
   "outputs": [
    {
     "name": "stdout",
     "output_type": "stream",
     "text": [
      "pyvista DataSetAttributes\n",
      "Association     : POINT\n",
      "Active Scalars  : vectors\n",
      "Active Vectors  : Normals\n",
      "Active Texture  : None\n",
      "Active Normals  : None\n",
      "Contains arrays :\n",
      "    u                       float32  (1572,)\n",
      "    v                       float32  (1572,)\n",
      "    w                       float32  (1572,)\n",
      "    vectors                 float64  (1572, 3)            SCALARS\n",
      "    IntegrationTime         float64  (1572,)\n",
      "    Vorticity               float64  (1572, 3)\n",
      "    Rotation                float64  (1572,)\n",
      "    AngularVelocity         float64  (1572,)\n",
      "    Normals                 float64  (1572, 3)            VECTORS\n"
     ]
    }
   ],
   "source": [
    "print(stream.point_data)"
   ]
  },
  {
   "cell_type": "code",
   "execution_count": 29,
   "metadata": {},
   "outputs": [
    {
     "name": "stdout",
     "output_type": "stream",
     "text": [
      "-0.002725528545454159\n",
      "-0.002728434598950724\n"
     ]
    }
   ],
   "source": [
    "vec = stream.point_data['vectors']\n",
    "print(vec[1,2] - vec[0,2])\n",
    "print(vec[2,2] - vec[1,2])"
   ]
  },
  {
   "cell_type": "code",
   "execution_count": 30,
   "metadata": {},
   "outputs": [
    {
     "name": "stdout",
     "output_type": "stream",
     "text": [
      "-0.0005564773455262184\n",
      "-0.0005454383790493011\n"
     ]
    }
   ],
   "source": [
    "print(vectors[1,2] - vectors[0,2])\n",
    "print(vectors[2,2] - vectors[1,2])"
   ]
  }
 ],
 "metadata": {
  "interpreter": {
   "hash": "e1544be3cfcd25960d8e00eace988acceb41ff3a4312f7e2c9ed99989dda4605"
  },
  "kernelspec": {
   "display_name": "Python 3.9.10 ('vtk-py-env': venv)",
   "language": "python",
   "name": "python3"
  },
  "language_info": {
   "codemirror_mode": {
    "name": "ipython",
    "version": 3
   },
   "file_extension": ".py",
   "mimetype": "text/x-python",
   "name": "python",
   "nbconvert_exporter": "python",
   "pygments_lexer": "ipython3",
   "version": "3.9.10"
  },
  "orig_nbformat": 4
 },
 "nbformat": 4,
 "nbformat_minor": 2
}
