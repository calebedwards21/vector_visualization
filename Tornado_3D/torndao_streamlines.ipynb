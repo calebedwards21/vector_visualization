{
 "cells": [
  {
   "cell_type": "markdown",
   "metadata": {},
   "source": [
    "# Tornado Synthetic Dataset - 3D Steady\n",
    "> [cgl datasets](https://cgl.ethz.ch/research/visualization/data.php)\n",
    "> Steady means no time is involved"
   ]
  },
  {
   "cell_type": "code",
   "execution_count": 1,
   "metadata": {},
   "outputs": [],
   "source": [
    "import numpy as np\n",
    "import pyvista as pv\n",
    "# np.set_printoptions(precision=3)"
   ]
  },
  {
   "cell_type": "code",
   "execution_count": 2,
   "metadata": {},
   "outputs": [
    {
     "name": "stdout",
     "output_type": "stream",
     "text": [
      "UniformGrid (0x1705d402460)\n",
      "  N Cells:\t2048383\n",
      "  N Points:\t2097152\n",
      "  X Bounds:\t-1.000e+01, 1.000e+01\n",
      "  Y Bounds:\t-1.000e+01, 1.000e+01\n",
      "  Z Bounds:\t-1.000e+01, 1.000e+01\n",
      "  Dimensions:\t128, 128, 128\n",
      "  Spacing:\t1.575e-01, 1.575e-01, 1.575e-01\n",
      "  N Arrays:\t3\n",
      "\n"
     ]
    }
   ],
   "source": [
    "file = '..\\\\Data\\\\tornado3d.vti'\n",
    "mesh = pv.read(file)\n",
    "print(mesh)"
   ]
  },
  {
   "cell_type": "code",
   "execution_count": 3,
   "metadata": {},
   "outputs": [
    {
     "name": "stdout",
     "output_type": "stream",
     "text": [
      "mesh dimensions : (128, 128, 128)\n",
      "128 * 128 * 128 = 2097152\n",
      "u shape : (2097152,)\n",
      "v shape : (2097152,)\n",
      "w shape : (2097152,)\n",
      "vectors shape : (2097152, 3)\n"
     ]
    }
   ],
   "source": [
    "w,v,u = mesh.point_data['w'], mesh.point_data['v'], mesh.point_data['u']\n",
    "\n",
    "vectors = np.empty((mesh.n_points, 3))\n",
    "vectors[:,0] = u\n",
    "vectors[:,1] = v\n",
    "vectors[:,2] = w\n",
    "\n",
    "print(f'mesh dimensions : {mesh.dimensions}')\n",
    "print(f'128 * 128 * 128 = {128*128*128}')\n",
    "print(f'u shape : {u.shape}\\nv shape : {v.shape}\\nw shape : {w.shape}')\n",
    "print(f'vectors shape : {vectors.shape}')"
   ]
  },
  {
   "cell_type": "code",
   "execution_count": 4,
   "metadata": {},
   "outputs": [
    {
     "data": {
      "application/vnd.jupyter.widget-view+json": {
       "model_id": "179d7df6827841f188988db8c2e9db24",
       "version_major": 2,
       "version_minor": 0
      },
      "text/plain": [
       "ViewInteractiveWidget(height=768, layout=Layout(height='auto', width='100%'), width=1024)"
      ]
     },
     "metadata": {},
     "output_type": "display_data"
    }
   ],
   "source": [
    "# https://docs.pyvista.org/api/core/_autosummary/pyvista.RectilinearGrid.streamlines.html\n",
    "\n",
    "mesh['vectors'] = vectors\n",
    "\n",
    "boundary = mesh.decimate_boundary().extract_all_edges()\n",
    "\n",
    "# Sphere Source\n",
    "stream_base, seed_pts = mesh.streamlines(\n",
    "    'vectors', \n",
    "    return_source=True,\n",
    "    n_points=20,\n",
    "    source_radius=10,\n",
    "    source_center=(0,0,0), \n",
    "    integration_direction='forward'\n",
    ")\n",
    "\n",
    "# Line Source\n",
    "# stream, src = mesh.streamlines(\n",
    "#     'vectors', \n",
    "#     return_source=True,\n",
    "#     n_points=100,\n",
    "#     pointa=(-8, -8, 10),\n",
    "#     pointb=(8, 8, 10),\n",
    "#     integration_direction='both',\n",
    "#     terminal_speed=-1,\n",
    "#     step_unit='l',\n",
    "#     initial_step_length=.01,\n",
    "#     max_steps=6000,\n",
    "#     min_step_length=.01\n",
    "# )\n",
    "\n",
    "sargs=dict(vertical=True, title_font_size=16)\n",
    "p = pv.Plotter()\n",
    "p.add_mesh(stream_base.tube(radius=0.02), lighting=False, scalar_bar_args=sargs)\n",
    "# p.add_mesh(src)\n",
    "p.add_mesh(boundary, color='grey', opacity=.25)\n",
    "p.show()"
   ]
  },
  {
   "cell_type": "code",
   "execution_count": 5,
   "metadata": {},
   "outputs": [
    {
     "name": "stdout",
     "output_type": "stream",
     "text": [
      "pyvista DataSetAttributes\n",
      "Association     : POINT\n",
      "Active Scalars  : vectors\n",
      "Active Vectors  : Normals\n",
      "Active Texture  : None\n",
      "Active Normals  : None\n",
      "Contains arrays :\n",
      "    u                       float32  (1178,)\n",
      "    v                       float32  (1178,)\n",
      "    w                       float32  (1178,)\n",
      "    vectors                 float64  (1178, 3)            SCALARS\n",
      "    IntegrationTime         float64  (1178,)\n",
      "    Vorticity               float64  (1178, 3)\n",
      "    Rotation                float64  (1178,)\n",
      "    AngularVelocity         float64  (1178,)\n",
      "    Normals                 float64  (1178, 3)            VECTORS\n"
     ]
    }
   ],
   "source": [
    "print(stream_base.point_data)"
   ]
  },
  {
   "cell_type": "code",
   "execution_count": 6,
   "metadata": {},
   "outputs": [
    {
     "name": "stdout",
     "output_type": "stream",
     "text": [
      "PolyData (0x1705d402340)\n",
      "  N Cells:\t1\n",
      "  N Points:\t20\n",
      "  X Bounds:\t-7.917e+00, 9.066e+00\n",
      "  Y Bounds:\t-7.497e+00, 7.694e+00\n",
      "  Z Bounds:\t-8.336e+00, 9.187e+00\n",
      "  N Arrays:\t0\n",
      "\n"
     ]
    }
   ],
   "source": [
    "print(seed_pts)"
   ]
  },
  {
   "cell_type": "markdown",
   "metadata": {},
   "source": [
    "# First Sample of s=2"
   ]
  },
  {
   "cell_type": "code",
   "execution_count": 7,
   "metadata": {},
   "outputs": [
    {
     "name": "stdout",
     "output_type": "stream",
     "text": [
      "mesh2 dimensions : (64, 64, 64)\n",
      "(64 * 64 * 64)  = 262144\n",
      "us shape : (262144,)\n",
      "vs shape : (262144,)\n",
      "ws shape : (262144,)\n",
      "vectorss shape : (262144, 3)\n"
     ]
    }
   ],
   "source": [
    "s = 2\n",
    "\n",
    "ws,vs,us = mesh.point_data['w'], mesh.point_data['v'], mesh.point_data['u']\n",
    "\n",
    "us.shape = mesh.dimensions\n",
    "vs.shape = mesh.dimensions\n",
    "ws.shape = mesh.dimensions\n",
    "\n",
    "# Down Sample / Decimate\n",
    "us = us[::s, ::s, ::s]\n",
    "vs = vs[::s, ::s, ::s]\n",
    "ws = ws[::s, ::s, ::s]\n",
    "\n",
    "dims = us.shape\n",
    "\n",
    "# Flatten vectors\n",
    "us = us.flatten(order='F')\n",
    "vs = vs.flatten(order='F')\n",
    "ws = ws.flatten(order='F')\n",
    "\n",
    "vectorss = np.empty((int(len(us)), 3))\n",
    "vectorss[:,0] = us\n",
    "vectorss[:,1] = vs\n",
    "vectorss[:,2] = ws\n",
    "\n",
    "mesh2 = pv.UniformGrid(\n",
    "    dims=dims,\n",
    "    spacing=tuple([x*s for x in list(mesh.spacing)]),\n",
    "    origin=mesh.origin,\n",
    ")\n",
    "\n",
    "print(f'mesh2 dimensions : {mesh2.dimensions}')\n",
    "print(f'(64 * 64 * 64)  = {(64*64*64)}')\n",
    "print(f'us shape : {us.shape}\\nvs shape : {vs.shape}\\nws shape : {ws.shape}')\n",
    "print(f'vectorss shape : {vectorss.shape}')"
   ]
  },
  {
   "cell_type": "code",
   "execution_count": 8,
   "metadata": {},
   "outputs": [
    {
     "data": {
      "application/vnd.jupyter.widget-view+json": {
       "model_id": "b8e1b7fbcbe24a1f98d3084039bdf45b",
       "version_major": 2,
       "version_minor": 0
      },
      "text/plain": [
       "ViewInteractiveWidget(height=768, layout=Layout(height='auto', width='100%'), width=1024)"
      ]
     },
     "metadata": {},
     "output_type": "display_data"
    }
   ],
   "source": [
    "mesh2['vectorss'] = vectorss\n",
    "\n",
    "# print(seed_pts.points)\n",
    "\n",
    "stream2 = mesh.streamlines_from_source(\n",
    "    vectors=vectorss, \n",
    "    source=seed_pts,\n",
    "    integration_direction='forward'\n",
    ")\n",
    "\n",
    "boundary2 = mesh2.decimate_boundary().extract_all_edges()\n",
    "\n",
    "sargs=dict(vertical=True, title_font_size=16)\n",
    "p = pv.Plotter()\n",
    "p.add_mesh(stream2.tube(radius=0.02), lighting=False, scalar_bar_args=sargs)\n",
    "p.add_mesh(boundary2, color='grey', opacity=.25)\n",
    "p.show()"
   ]
  },
  {
   "cell_type": "markdown",
   "metadata": {},
   "source": [
    "# Generate Error between Streamlines"
   ]
  },
  {
   "cell_type": "code",
   "execution_count": 18,
   "metadata": {},
   "outputs": [
    {
     "name": "stdout",
     "output_type": "stream",
     "text": [
      "(97, 3)\n",
      "(97, 3)\n",
      "20.997811066619178\n",
      "20.997811066619178\n"
     ]
    }
   ],
   "source": [
    "idx = 0\n",
    "\n",
    "stream_1 = stream_base.cell_points(idx)\n",
    "stream_2 = stream2.cell_points(idx)\n",
    "\n",
    "print(stream_1.shape)\n",
    "print(stream_2.shape)\n",
    "\n",
    "t_1 = stream_1[1:,:] - stream_1[:-1,:]\n",
    "t_2 = stream_2[1:,:] - stream_2[:-1,:]\n",
    "length_1 = sum([np.sqrt(x[0]**2 + x[1]**2 + x[2]**2) for x in t_1])\n",
    "length_2 = sum([np.sqrt(x[0]**2 + x[1]**2 + x[2]**2) for x in t_2])\n",
    "print(length_1)\n",
    "print(length_2)\n"
   ]
  },
  {
   "cell_type": "code",
   "execution_count": null,
   "metadata": {},
   "outputs": [],
   "source": [
    "t = np.linspace(0,1,stream_1.shape[0])\n",
    "\n",
    "tvals = np.linspace(0,1,stream_1.shape[0]*5)\n",
    "\n",
    "xinter1 = np.interp(tvals, t, stream_1[:,0])\n",
    "yinter1 = np.interp(tvals, t, stream_1[:,1])\n",
    "zinter1 = np.interp(tvals, t, stream_1[:,2])\n",
    "\n",
    "xinter2 = np.interp(tvals, t, stream_2[:,0])\n",
    "yinter2 = np.interp(tvals, t, stream_2[:,1])\n",
    "zinter2 = np.interp(tvals, t, stream_2[:,2])\n",
    "\n",
    "mag_inter1 = [np.sqrt(x**2 + y**2 + z**2) for x,y,z in zip(xinter1, yinter1, zinter1)]\n",
    "mag_inter2 = [np.sqrt(x**2 + y**2 + z**2) for x,y,z in zip(xinter2, yinter2, zinter2)]\n",
    "\n",
    "error = [abs(mag1 - mag2) for mag1, mag2 in zip(mag_inter1, mag_inter2)]"
   ]
  },
  {
   "cell_type": "code",
   "execution_count": 27,
   "metadata": {},
   "outputs": [
    {
     "name": "stdout",
     "output_type": "stream",
     "text": [
      "Stream 1 : (97, 3)\n",
      "Stream 2 : (97, 3)\n",
      "\n",
      "Stream 1 Length: 20.997811066619178\n",
      "Stream 2 Length : 20.997811066619178\n",
      "\n",
      "Stream 1 : (76, 3)\n",
      "Stream 2 : (76, 3)\n",
      "\n",
      "Stream 1 Length: 16.693564294592637\n",
      "Stream 2 Length : 16.693564294592637\n",
      "\n",
      "Stream 1 : (128, 3)\n",
      "Stream 2 : (128, 3)\n",
      "\n",
      "Stream 1 Length: 20.486516189332303\n",
      "Stream 2 Length : 20.486516189332303\n",
      "\n",
      "Stream 1 : (34, 3)\n",
      "Stream 2 : (34, 3)\n",
      "\n",
      "Stream 1 Length: 8.544645920040267\n",
      "Stream 2 Length : 8.544645920040267\n",
      "\n",
      "Stream 1 : (105, 3)\n",
      "Stream 2 : (105, 3)\n",
      "\n",
      "Stream 1 Length: 19.913537985628324\n",
      "Stream 2 Length : 19.913537985628324\n",
      "\n",
      "Stream 1 : (7, 3)\n",
      "Stream 2 : (7, 3)\n",
      "\n",
      "Stream 1 Length: 1.6365530357348155\n",
      "Stream 2 Length : 1.6365530357348155\n",
      "\n",
      "Stream 1 : (20, 3)\n",
      "Stream 2 : (20, 3)\n",
      "\n",
      "Stream 1 Length: 4.733414546735736\n",
      "Stream 2 Length : 4.733414546735736\n",
      "\n",
      "Stream 1 : (34, 3)\n",
      "Stream 2 : (34, 3)\n",
      "\n",
      "Stream 1 Length: 7.286716140027696\n",
      "Stream 2 Length : 7.286716140027696\n",
      "\n",
      "Stream 1 : (114, 3)\n",
      "Stream 2 : (114, 3)\n",
      "\n",
      "Stream 1 Length: 21.076802271221855\n",
      "Stream 2 Length : 21.076802271221855\n",
      "\n",
      "Stream 1 : (12, 3)\n",
      "Stream 2 : (12, 3)\n",
      "\n",
      "Stream 1 Length: 2.3937267650816554\n",
      "Stream 2 Length : 2.3937267650816554\n",
      "\n",
      "Stream 1 : (39, 3)\n",
      "Stream 2 : (39, 3)\n",
      "\n",
      "Stream 1 Length: 8.674660829083665\n",
      "Stream 2 Length : 8.674660829083665\n",
      "\n",
      "Stream 1 : (37, 3)\n",
      "Stream 2 : (37, 3)\n",
      "\n",
      "Stream 1 Length: 7.408652237591937\n",
      "Stream 2 Length : 7.408652237591937\n",
      "\n",
      "Stream 1 : (44, 3)\n",
      "Stream 2 : (44, 3)\n",
      "\n",
      "Stream 1 Length: 9.802787704854614\n",
      "Stream 2 Length : 9.802787704854614\n",
      "\n",
      "Stream 1 : (90, 3)\n",
      "Stream 2 : (90, 3)\n",
      "\n",
      "Stream 1 Length: 21.88833464984975\n",
      "Stream 2 Length : 21.88833464984975\n",
      "\n",
      "Stream 1 : (21, 3)\n",
      "Stream 2 : (21, 3)\n",
      "\n",
      "Stream 1 Length: 5.455194121908207\n",
      "Stream 2 Length : 5.455194121908207\n",
      "\n",
      "Stream 1 : (15, 3)\n",
      "Stream 2 : (15, 3)\n",
      "\n",
      "Stream 1 Length: 3.1368417870182466\n",
      "Stream 2 Length : 3.1368417870182466\n",
      "\n",
      "Stream 1 : (204, 3)\n",
      "Stream 2 : (204, 3)\n",
      "\n",
      "Stream 1 Length: 11.83421517105457\n",
      "Stream 2 Length : 11.83421517105457\n",
      "\n",
      "Stream 1 : (11, 3)\n",
      "Stream 2 : (11, 3)\n",
      "\n",
      "Stream 1 Length: 2.1776711067265113\n",
      "Stream 2 Length : 2.1776711067265113\n",
      "\n",
      "Stream 1 : (19, 3)\n",
      "Stream 2 : (19, 3)\n",
      "\n",
      "Stream 1 Length: 4.888327880150094\n",
      "Stream 2 Length : 4.888327880150094\n",
      "\n",
      "Stream 1 : (71, 3)\n",
      "Stream 2 : (71, 3)\n",
      "\n",
      "Stream 1 Length: 15.201373382124626\n",
      "Stream 2 Length : 15.201373382124626\n",
      "\n"
     ]
    }
   ],
   "source": [
    "errors = []\n",
    "for i in range(stream_base.n_cells):\n",
    "    stream_1 = stream_base.cell_points(i).copy()\n",
    "    stream_2 = stream2.cell_points(i).copy()\n",
    "    print(f'Stream 1 : {stream_1.shape}\\nStream 2 : {stream_2.shape}\\n')\n",
    "    \n",
    "    # Distance between each point in streamline\n",
    "    t_1 = stream_1[1:,:] - stream_1[:-1,:]\n",
    "    t_2 = stream_2[1:,:] - stream_2[:-1,:]\n",
    "   \n",
    "     # Lengths of streamlines\n",
    "    length_1 = sum([np.sqrt(x[0]**2 + x[1]**2 + x[2]**2) for x in t_1])\n",
    "    length_2 = sum([np.sqrt(x[0]**2 + x[1]**2 + x[2]**2) for x in t_2])\n",
    "    print(f'Stream 1 Length: {length_1}\\nStream 2 Length : {length_2}\\n')\n",
    "    \n",
    "\n",
    "    # Want to interpolate by 5 points greater than # of points in streamline\n",
    "    tvals = np.linspace(0,1,stream_1.shape[0]*5)\n",
    "    t = np.linspace(0,1,stream_1.shape[0])\n",
    "\n",
    "    xinter1 = np.interp(tvals, t, stream_1[:,0])\n",
    "    yinter1 = np.interp(tvals, t, stream_1[:,1])\n",
    "    zinter1 = np.interp(tvals, t, stream_1[:,2])\n",
    "\n",
    "    xinter2 = np.interp(tvals, t, stream_2[:,0])\n",
    "    yinter2 = np.interp(tvals, t, stream_2[:,1])\n",
    "    zinter2 = np.interp(tvals, t, stream_2[:,2])\n",
    "\n",
    "    # Get magnitude of points so can calculate error\n",
    "    mag_inter1 = [np.sqrt(x**2 + y**2 + z**2) for x,y,z in zip(xinter1, yinter1, zinter1)]\n",
    "    mag_inter2 = [np.sqrt(x**2 + y**2 + z**2) for x,y,z in zip(xinter2, yinter2, zinter2)]\n",
    "\n",
    "    errors.append([abs(mag1 - mag2) for mag1, mag2 in zip(mag_inter1, mag_inter2)])"
   ]
  },
  {
   "cell_type": "code",
   "execution_count": 47,
   "metadata": {},
   "outputs": [],
   "source": [
    "# errors = []\n",
    "# for i in range(stream_base.n_cells):\n",
    "#     points1 = stream_base.cell_points(i).deepcopy()\n",
    "#     points2 = stream2.cell_points(i)\n",
    "#     small = min(points1.shape[0], points2.shape[0])\n",
    "#     if points1.shape[0] == small:\n",
    "#         print(f'min : {small}\\npoints2 shape : {points2.shape}\\npoints1 shape : {points1.shape}')\n",
    "#         points2 = points2[:small, :]\n",
    "#     else:\n",
    "#         points1 = points1[:small, :]\n",
    "#         print(f'min : {small}\\npoints1 shape : {points1.shape}\\npoints2 shape : {points2.shape}')\n",
    "#     errors.append(abs(points1 - points2))\n",
    "  \n",
    "# # for error in errors[:-1]: \n",
    "# #     print(error)\n",
    "# mag_errors = []\n",
    "# for points in errors:\n",
    "#     mag_errors.append([np.sqrt(error[0]**2 + error[1]**2 + error[2]**2) for error in points])"
   ]
  },
  {
   "cell_type": "code",
   "execution_count": 30,
   "metadata": {},
   "outputs": [
    {
     "data": {
      "image/png": "[encoded data removed]",
      "text/plain": [
       "<Figure size 432x288 with 1 Axes>"
      ]
     },
     "metadata": {
      "needs_background": "light"
     },
     "output_type": "display_data"
    }
   ],
   "source": [
    "import matplotlib.pyplot as plt\n",
    "for i in range(len(errors)):\n",
    "    plt.plot(errors[i], label=\"error {i}\")\n",
    "plt.legend()\n",
    "plt.show()"
   ]
  }
 ],
 "metadata": {
  "interpreter": {
   "hash": "e1544be3cfcd25960d8e00eace988acceb41ff3a4312f7e2c9ed99989dda4605"
  },
  "kernelspec": {
   "display_name": "Python 3.9.10 ('vtk-py-env': venv)",
   "language": "python",
   "name": "python3"
  },
  "language_info": {
   "codemirror_mode": {
    "name": "ipython",
    "version": 3
   },
   "file_extension": ".py",
   "mimetype": "text/x-python",
   "name": "python",
   "nbconvert_exporter": "python",
   "pygments_lexer": "ipython3",
   "version": "3.9.10"
  },
  "orig_nbformat": 4
 },
 "nbformat": 4,
 "nbformat_minor": 2
}
