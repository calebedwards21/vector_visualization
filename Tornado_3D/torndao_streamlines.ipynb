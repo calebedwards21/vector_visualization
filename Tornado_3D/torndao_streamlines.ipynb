{
 "cells": [
  {
   "cell_type": "markdown",
   "metadata": {},
   "source": [
    "# Tornado Synthetic Dataset - 3D Steady\n",
    "> [cgl datasets](https://cgl.ethz.ch/research/visualization/data.php)\n",
    "> Steady means no time is involved"
   ]
  },
  {
   "cell_type": "code",
   "execution_count": 1,
   "metadata": {},
   "outputs": [],
   "source": [
    "import numpy as np\n",
    "import pyvista as pv\n",
    "# np.set_printoptions(precision=3)"
   ]
  },
  {
   "cell_type": "code",
   "execution_count": 2,
   "metadata": {},
   "outputs": [
    {
     "name": "stdout",
     "output_type": "stream",
     "text": [
      "UniformGrid (0x1c964dfab80)\n",
      "  N Cells:\t2048383\n",
      "  N Points:\t2097152\n",
      "  X Bounds:\t-1.000e+01, 1.000e+01\n",
      "  Y Bounds:\t-1.000e+01, 1.000e+01\n",
      "  Z Bounds:\t-1.000e+01, 1.000e+01\n",
      "  Dimensions:\t128, 128, 128\n",
      "  Spacing:\t1.575e-01, 1.575e-01, 1.575e-01\n",
      "  N Arrays:\t3\n",
      "\n"
     ]
    }
   ],
   "source": [
    "file = '..\\\\Data\\\\tornado3d.vti'\n",
    "mesh = pv.read(file)\n",
    "print(mesh)"
   ]
  },
  {
   "cell_type": "code",
   "execution_count": 3,
   "metadata": {},
   "outputs": [
    {
     "name": "stdout",
     "output_type": "stream",
     "text": [
      "mesh dimensions : (128, 128, 128)\n",
      "128 * 128 * 128 = 2097152\n",
      "u shape : (2097152,)\n",
      "v shape : (2097152,)\n",
      "w shape : (2097152,)\n",
      "vectors shape : (2097152, 3)\n"
     ]
    }
   ],
   "source": [
    "w,v,u = mesh.point_data['w'], mesh.point_data['v'], mesh.point_data['u']\n",
    "\n",
    "vectors = np.empty((mesh.n_points, 3))\n",
    "vectors[:,0] = u\n",
    "vectors[:,1] = v\n",
    "vectors[:,2] = w\n",
    "\n",
    "print(f'mesh dimensions : {mesh.dimensions}')\n",
    "print(f'128 * 128 * 128 = {128*128*128}')\n",
    "print(f'u shape : {u.shape}\\nv shape : {v.shape}\\nw shape : {w.shape}')\n",
    "print(f'vectors shape : {vectors.shape}')"
   ]
  },
  {
   "cell_type": "code",
   "execution_count": 4,
   "metadata": {},
   "outputs": [
    {
     "data": {
      "application/vnd.jupyter.widget-view+json": {
       "model_id": "2aacb8d585ce46759918b717134537ec",
       "version_major": 2,
       "version_minor": 0
      },
      "text/plain": [
       "ViewInteractiveWidget(height=768, layout=Layout(height='auto', width='100%'), width=1024)"
      ]
     },
     "metadata": {},
     "output_type": "display_data"
    }
   ],
   "source": [
    "# https://docs.pyvista.org/api/core/_autosummary/pyvista.RectilinearGrid.streamlines.html\n",
    "\n",
    "mesh['vectors'] = vectors\n",
    "\n",
    "boundary = mesh.decimate_boundary().extract_all_edges()\n",
    "\n",
    "# Sphere Source\n",
    "stream_base, seed_pts = mesh.streamlines(\n",
    "    'vectors', \n",
    "    return_source=True,\n",
    "    n_points=1,\n",
    "    source_radius=0,\n",
    "    source_center=(-4e-11,-4e-11,-4e-11)\n",
    ")\n",
    "\n",
    "# Line Source\n",
    "# stream, src = mesh.streamlines(\n",
    "#     'vectors', \n",
    "#     return_source=True,\n",
    "#     n_points=100,\n",
    "#     pointa=(-8, -8, 10),\n",
    "#     pointb=(8, 8, 10),\n",
    "#     integration_direction='both',\n",
    "#     terminal_speed=-1,\n",
    "#     step_unit='l',\n",
    "#     initial_step_length=.01,\n",
    "#     max_steps=6000,\n",
    "#     min_step_length=.01\n",
    "# )\n",
    "\n",
    "sargs=dict(vertical=True, title_font_size=16)\n",
    "p = pv.Plotter()\n",
    "p.add_mesh(stream_base.tube(radius=0.02), lighting=False, scalar_bar_args=sargs)\n",
    "# p.add_mesh(src)\n",
    "p.add_mesh(boundary, color='grey', opacity=.25)\n",
    "p.show()"
   ]
  },
  {
   "cell_type": "code",
   "execution_count": 5,
   "metadata": {},
   "outputs": [
    {
     "name": "stdout",
     "output_type": "stream",
     "text": [
      "pyvista DataSetAttributes\n",
      "Association     : POINT\n",
      "Active Scalars  : vectors\n",
      "Active Vectors  : Normals\n",
      "Active Texture  : None\n",
      "Active Normals  : None\n",
      "Contains arrays :\n",
      "    u                       float32  (239,)\n",
      "    v                       float32  (239,)\n",
      "    w                       float32  (239,)\n",
      "    vectors                 float64  (239, 3)             SCALARS\n",
      "    IntegrationTime         float64  (239,)\n",
      "    Vorticity               float64  (239, 3)\n",
      "    Rotation                float64  (239,)\n",
      "    AngularVelocity         float64  (239,)\n",
      "    Normals                 float64  (239, 3)             VECTORS\n"
     ]
    }
   ],
   "source": [
    "print(stream_base.point_data)"
   ]
  },
  {
   "cell_type": "code",
   "execution_count": 6,
   "metadata": {},
   "outputs": [
    {
     "name": "stdout",
     "output_type": "stream",
     "text": [
      "PolyData (0x1c974ed6460)\n",
      "  N Cells:\t1\n",
      "  N Points:\t1\n",
      "  X Bounds:\t-4.000e-11, -4.000e-11\n",
      "  Y Bounds:\t-4.000e-11, -4.000e-11\n",
      "  Z Bounds:\t-4.000e-11, -4.000e-11\n",
      "  N Arrays:\t0\n",
      "\n"
     ]
    }
   ],
   "source": [
    "print(seed_pts)"
   ]
  },
  {
   "cell_type": "markdown",
   "metadata": {},
   "source": [
    "# First Sample of s=2"
   ]
  },
  {
   "cell_type": "code",
   "execution_count": 22,
   "metadata": {},
   "outputs": [
    {
     "name": "stdout",
     "output_type": "stream",
     "text": [
      "0.6274744008575478\n",
      "(2097152,)\n",
      "mesh2 dimensions : (128, 128, 128)\n",
      "(64 * 64 * 64)  = 262144\n",
      "us shape : (2097152,)\n",
      "vs shape : (2097152,)\n",
      "ws shape : (2097152,)\n",
      "vectorss shape : (2097152, 3)\n",
      "None\n"
     ]
    }
   ],
   "source": [
    "s = 2\n",
    "\n",
    "\n",
    "ws,vs,us = mesh.point_data['w'], mesh.point_data['v'], mesh.point_data['u']\n",
    "\n",
    "# us.shape = mesh.dimensions\n",
    "# vs.shape = mesh.dimensions\n",
    "# ws.shape = mesh.dimensions\n",
    "\n",
    "# # Down Sample / Decimate\n",
    "# us = us[::s, ::s, ::s] \n",
    "# vs = vs[::s, ::s, ::s]\n",
    "# ws = ws[::s, ::s, ::s]\n",
    "\n",
    "dims = us.shape\n",
    "\n",
    "# # Flatten vectors\n",
    "# us = us.flatten(order='F')\n",
    "# vs = vs.flatten(order='F')\n",
    "# ws = ws.flatten(order='F')\n",
    "\n",
    "vectorss = np.empty((int(len(us)), 3))\n",
    "vectorss[:,0] = us\n",
    "vectorss[:,1] = vs\n",
    "vectorss[:,2] = ws\n",
    "\n",
    "m = np.linalg.norm(vectorss, axis=1).max() * .1\n",
    "num = np.random.random_sample(vectorss.shape) * 2*m - m\n",
    "print(m)\n",
    "vectorss = num\n",
    "\n",
    "print(dims)\n",
    "mesh2 = pv.UniformGrid(\n",
    "    # dims=dims,\n",
    "    # spacing=tuple([x*s for x in list(mesh.spacing)]),\n",
    "    dims=mesh.dimensions,\n",
    "    spacing=mesh.spacing,\n",
    "    origin=mesh.origin\n",
    ")\n",
    "\n",
    "print(f'mesh2 dimensions : {mesh2.dimensions}')\n",
    "print(f'(64 * 64 * 64)  = {(64*64*64)}')\n",
    "print(f'us shape : {us.shape}\\nvs shape : {vs.shape}\\nws shape : {ws.shape}')\n",
    "print(f'vectorss shape : {vectorss.shape}')\n",
    "\n",
    "print(vectorss.base)"
   ]
  },
  {
   "cell_type": "code",
   "execution_count": 25,
   "metadata": {},
   "outputs": [
    {
     "ename": "TypeError",
     "evalue": "streamlines_from_source() got multiple values for argument 'source'",
     "output_type": "error",
     "traceback": [
      "\u001b[1;31m---------------------------------------------------------------------------\u001b[0m",
      "\u001b[1;31mTypeError\u001b[0m                                 Traceback (most recent call last)",
      "\u001b[1;32md:\\workspace\\USU\\CS6950-DirectedReadings\\VTK\\Tornado_3D\\torndao_streamlines.ipynb Cell 10'\u001b[0m in \u001b[0;36m<module>\u001b[1;34m\u001b[0m\n\u001b[0;32m      <a href='vscode-notebook-cell:/d%3A/workspace/USU/CS6950-DirectedReadings/VTK/Tornado_3D/torndao_streamlines.ipynb#ch0000009?line=0'>1</a>\u001b[0m mesh2[\u001b[39m'\u001b[39m\u001b[39mvectorss\u001b[39m\u001b[39m'\u001b[39m] \u001b[39m=\u001b[39m vectorss\n\u001b[0;32m      <a href='vscode-notebook-cell:/d%3A/workspace/USU/CS6950-DirectedReadings/VTK/Tornado_3D/torndao_streamlines.ipynb#ch0000009?line=2'>3</a>\u001b[0m \u001b[39m# print(seed_pts.points)\u001b[39;00m\n\u001b[1;32m----> <a href='vscode-notebook-cell:/d%3A/workspace/USU/CS6950-DirectedReadings/VTK/Tornado_3D/torndao_streamlines.ipynb#ch0000009?line=4'>5</a>\u001b[0m stream2 \u001b[39m=\u001b[39m mesh\u001b[39m.\u001b[39;49mstreamlines_from_source(\n\u001b[0;32m      <a href='vscode-notebook-cell:/d%3A/workspace/USU/CS6950-DirectedReadings/VTK/Tornado_3D/torndao_streamlines.ipynb#ch0000009?line=5'>6</a>\u001b[0m     \u001b[39m'\u001b[39;49m\u001b[39mvectorss\u001b[39;49m\u001b[39m'\u001b[39;49m, \n\u001b[0;32m      <a href='vscode-notebook-cell:/d%3A/workspace/USU/CS6950-DirectedReadings/VTK/Tornado_3D/torndao_streamlines.ipynb#ch0000009?line=6'>7</a>\u001b[0m     source\u001b[39m=\u001b[39;49mseed_pts\n\u001b[0;32m      <a href='vscode-notebook-cell:/d%3A/workspace/USU/CS6950-DirectedReadings/VTK/Tornado_3D/torndao_streamlines.ipynb#ch0000009?line=7'>8</a>\u001b[0m )\n\u001b[0;32m     <a href='vscode-notebook-cell:/d%3A/workspace/USU/CS6950-DirectedReadings/VTK/Tornado_3D/torndao_streamlines.ipynb#ch0000009?line=9'>10</a>\u001b[0m boundary2 \u001b[39m=\u001b[39m mesh2\u001b[39m.\u001b[39mdecimate_boundary()\u001b[39m.\u001b[39mextract_all_edges()\n\u001b[0;32m     <a href='vscode-notebook-cell:/d%3A/workspace/USU/CS6950-DirectedReadings/VTK/Tornado_3D/torndao_streamlines.ipynb#ch0000009?line=11'>12</a>\u001b[0m sargs\u001b[39m=\u001b[39m\u001b[39mdict\u001b[39m(vertical\u001b[39m=\u001b[39m\u001b[39mTrue\u001b[39;00m, title_font_size\u001b[39m=\u001b[39m\u001b[39m16\u001b[39m)\n",
      "\u001b[1;31mTypeError\u001b[0m: streamlines_from_source() got multiple values for argument 'source'"
     ]
    }
   ],
   "source": [
    "mesh2['vectorss'] = vectorss\n",
    "\n",
    "# print(seed_pts.points)\n",
    "\n",
    "stream2 = mesh.streamlines_from_source(\n",
    "    vectors=vectorss, \n",
    "    source=seed_pts\n",
    ")\n",
    "\n",
    "boundary2 = mesh2.decimate_boundary().extract_all_edges()\n",
    "\n",
    "sargs=dict(vertical=True, title_font_size=16)\n",
    "p = pv.Plotter()\n",
    "p.add_mesh(stream2.tube(radius=0.02), lighting=False, scalar_bar_args=sargs)\n",
    "p.add_mesh(boundary2, color='grey', opacity=.25)\n",
    "p.show()"
   ]
  },
  {
   "cell_type": "markdown",
   "metadata": {},
   "source": [
    "# Generate Error between Streamlines"
   ]
  },
  {
   "cell_type": "code",
   "execution_count": 24,
   "metadata": {},
   "outputs": [
    {
     "name": "stdout",
     "output_type": "stream",
     "text": [
      "2\n",
      "2\n"
     ]
    },
    {
     "data": {
      "application/vnd.jupyter.widget-view+json": {
       "model_id": "02e1a169f5b34d61bf4fd1444a9363e1",
       "version_major": 2,
       "version_minor": 0
      },
      "text/plain": [
       "ViewInteractiveWidget(height=768, layout=Layout(height='auto', width='100%'), width=1024)"
      ]
     },
     "metadata": {},
     "output_type": "display_data"
    }
   ],
   "source": [
    "print(stream_base.n_cells)\n",
    "print(stream2.n_cells)\n",
    "a = 0\n",
    "sargs=dict(vertical=True, title_font_size=16)\n",
    "p = pv.Plotter()\n",
    "p.add_mesh(stream2.cell_points(a), lighting=False, scalar_bar_args=sargs, color='red')\n",
    "p.add_mesh(stream_base.cell_points(a), lighting=False, scalar_bar_args=sargs, color='blue')\n",
    "p.add_mesh(boundary2, color='grey', opacity=.25)\n",
    "p.show()"
   ]
  },
  {
   "cell_type": "code",
   "execution_count": 20,
   "metadata": {},
   "outputs": [
    {
     "name": "stdout",
     "output_type": "stream",
     "text": [
      "0\n",
      "1\n"
     ]
    }
   ],
   "source": [
    "from scipy import interpolate\n",
    "\n",
    "errors = []\n",
    "for i in range(stream_base.n_cells):\n",
    "    print(i)\n",
    "    stream_1 = stream_base.cell_points(i).copy()\n",
    "    stream_2 = stream2.cell_points(i).copy()\n",
    "    # print(f'Stream 1 : {stream_1.shape}\\nStream 2 : {stream_2.shape}\\n')\n",
    "    \n",
    "    # Distance between each point in streamline\n",
    "    dv_1 = stream_1[1:,:] - stream_1[:-1,:]\n",
    "    dv_2 = stream_2[1:,:] - stream_2[:-1,:]\n",
    "    \n",
    "    # Length / Magnitude of each delta t\n",
    "    dl_1 = np.sqrt(np.sum(dv_1**2, axis=1))\n",
    "    dl_2 = np.sqrt(np.sum(dv_2**2, axis=1))\n",
    "    \n",
    "    t1 = np.r_[0, np.cumsum(dl_1)]\n",
    "    t2 = np.r_[0, np.cumsum(dl_2)]\n",
    "    # print(t1.shape)\n",
    "   \n",
    "    # Lengths of streamline\n",
    "    length_1 = t1[-1]\n",
    "    length_2 = t2[-1]\n",
    "    # print(f'Stream 1 Length : {length_1}\\nStream 2 Length : {length_2}\\n')    \n",
    "\n",
    "    x1 = interpolate.interp1d(t1, stream_1[:,0])\n",
    "    y1 = interpolate.interp1d(t1, stream_1[:,1])\n",
    "    z1 = interpolate.interp1d(t1, stream_1[:,2])\n",
    "    p1 = lambda t : np.c_[x1(t), y1(t), z1(t)]\n",
    "    \n",
    "    x2 = interpolate.interp1d(t2, stream_2[:,0])\n",
    "    y2 = interpolate.interp1d(t2, stream_2[:,1])\n",
    "    z2 = interpolate.interp1d(t2, stream_2[:,2])\n",
    "    p2 = lambda t : np.c_[x2(t), y2(t), z2(t)]\n",
    "    \n",
    "\n",
    "    t = np.linspace(0, min(length_1, length_2), 11)    \n",
    "    ind_error = np.linalg.norm(p1(t) - p2(t), axis=1) # Same as magnitude\n",
    "    tot_error = np.sum(ind_error)\n",
    "    rms_error = np.sqrt(np.mean(ind_error**2))\n",
    "    # print(ind_error.shape)\n",
    "\n",
    "    errors.append(ind_error)"
   ]
  },
  {
   "cell_type": "code",
   "execution_count": 21,
   "metadata": {},
   "outputs": [
    {
     "data": {
      "image/png": "[encoded data removed]",
      "text/plain": [
       "<Figure size 432x288 with 1 Axes>"
      ]
     },
     "metadata": {
      "needs_background": "light"
     },
     "output_type": "display_data"
    }
   ],
   "source": [
    "import matplotlib.pyplot as plt\n",
    "for i in range(len(errors)):\n",
    "    plt.plot(t, errors[i], label=\"error {i}\")\n",
    "# plt.legend()\n",
    "plt.show()\n",
    "\n",
    "# Histogram of error\n",
    "# Compare different resolution errors and get an avg error and plot over different resolutions"
   ]
  }
 ],
 "metadata": {
  "interpreter": {
   "hash": "e1544be3cfcd25960d8e00eace988acceb41ff3a4312f7e2c9ed99989dda4605"
  },
  "kernelspec": {
   "display_name": "Python 3.9.10 ('vtk-py-env': venv)",
   "language": "python",
   "name": "python3"
  },
  "language_info": {
   "codemirror_mode": {
    "name": "ipython",
    "version": 3
   },
   "file_extension": ".py",
   "mimetype": "text/x-python",
   "name": "python",
   "nbconvert_exporter": "python",
   "pygments_lexer": "ipython3",
   "version": "3.9.10"
  },
  "orig_nbformat": 4
 },
 "nbformat": 4,
 "nbformat_minor": 2
}
