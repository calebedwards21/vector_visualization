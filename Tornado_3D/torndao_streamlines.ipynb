{
 "cells": [
  {
   "cell_type": "markdown",
   "metadata": {},
   "source": [
    "# Tornado Synthetic Dataset - 3D Steady\n",
    "> [cgl datasets](https://cgl.ethz.ch/research/visualization/data.php)\n",
    "> Steady means no time is involved"
   ]
  },
  {
   "cell_type": "code",
   "execution_count": 27,
   "metadata": {},
   "outputs": [],
   "source": [
    "import numpy as np\n",
    "import pyvista as pv\n",
    "# np.set_printoptions(precision=3)"
   ]
  },
  {
   "cell_type": "code",
   "execution_count": 28,
   "metadata": {},
   "outputs": [
    {
     "name": "stdout",
     "output_type": "stream",
     "text": [
      "UniformGrid (0x2578a426a60)\n",
      "  N Cells:\t2048383\n",
      "  N Points:\t2097152\n",
      "  X Bounds:\t-1.000e+01, 1.000e+01\n",
      "  Y Bounds:\t-1.000e+01, 1.000e+01\n",
      "  Z Bounds:\t-1.000e+01, 1.000e+01\n",
      "  Dimensions:\t128, 128, 128\n",
      "  Spacing:\t1.575e-01, 1.575e-01, 1.575e-01\n",
      "  N Arrays:\t3\n",
      "\n"
     ]
    }
   ],
   "source": [
    "file = '..\\\\Data\\\\tornado3d.vti'\n",
    "mesh = pv.read(file)\n",
    "print(mesh)"
   ]
  },
  {
   "cell_type": "code",
   "execution_count": 29,
   "metadata": {},
   "outputs": [
    {
     "name": "stdout",
     "output_type": "stream",
     "text": [
      "mesh dimensions : (128, 128, 128)\n",
      "128 * 128 * 128 = 2097152\n",
      "u shape : (2097152,)\n",
      "v shape : (2097152,)\n",
      "w shape : (2097152,)\n",
      "vectors shape : (2097152, 3)\n"
     ]
    }
   ],
   "source": [
    "w,v,u = mesh.point_data['w'], mesh.point_data['v'], mesh.point_data['u']\n",
    "\n",
    "vectors = np.empty((mesh.n_points, 3))\n",
    "vectors[:,0] = u\n",
    "vectors[:,1] = v\n",
    "vectors[:,2] = w\n",
    "\n",
    "print(f'mesh dimensions : {mesh.dimensions}')\n",
    "print(f'128 * 128 * 128 = {128*128*128}')\n",
    "print(f'u shape : {u.shape}\\nv shape : {v.shape}\\nw shape : {w.shape}')\n",
    "print(f'vectors shape : {vectors.shape}')"
   ]
  },
  {
   "cell_type": "code",
   "execution_count": 30,
   "metadata": {},
   "outputs": [
    {
     "data": {
      "application/vnd.jupyter.widget-view+json": {
       "model_id": "181feed7913649bca3952d8f976d0fc4",
       "version_major": 2,
       "version_minor": 0
      },
      "text/plain": [
       "ViewInteractiveWidget(height=768, layout=Layout(height='auto', width='100%'), width=1024)"
      ]
     },
     "metadata": {},
     "output_type": "display_data"
    }
   ],
   "source": [
    "# https://docs.pyvista.org/api/core/_autosummary/pyvista.RectilinearGrid.streamlines.html\n",
    "\n",
    "mesh['vectors'] = vectors\n",
    "\n",
    "boundary = mesh.decimate_boundary().extract_all_edges()\n",
    "\n",
    "# Sphere Source\n",
    "# stream, src = mesh.streamlines(\n",
    "#     'vectors', \n",
    "#     return_source=True,\n",
    "#     terminal_speed=0,\n",
    "#     n_points=10,\n",
    "#     source_radius=1,\n",
    "#     source_center=(0,0,9)\n",
    "# )\n",
    "\n",
    "# Line Source\n",
    "stream, src = mesh.streamlines(\n",
    "    'vectors', \n",
    "    return_source=True,\n",
    "    n_points=100,\n",
    "    pointa=(-8, -8, 10),\n",
    "    pointb=(8, 8, 10),\n",
    "    integration_direction='both',\n",
    "    terminal_speed=-1,\n",
    "    step_unit='l',\n",
    "    initial_step_length=.01,\n",
    "    max_steps=6000,\n",
    "    min_step_length=.01\n",
    ")\n",
    "\n",
    "sargs=dict(vertical=True, title_font_size=16)\n",
    "p = pv.Plotter()\n",
    "p.add_mesh(stream.tube(radius=0.02), lighting=False, scalar_bar_args=sargs)\n",
    "p.add_mesh(src)\n",
    "p.add_mesh(boundary, color='grey', opacity=.25)\n",
    "p.show()"
   ]
  },
  {
   "cell_type": "code",
   "execution_count": 31,
   "metadata": {},
   "outputs": [
    {
     "name": "stdout",
     "output_type": "stream",
     "text": [
      "pyvista DataSetAttributes\n",
      "Association     : POINT\n",
      "Active Scalars  : vectors\n",
      "Active Vectors  : Normals\n",
      "Active Texture  : None\n",
      "Active Normals  : None\n",
      "Contains arrays :\n",
      "    u                       float32  (355167,)\n",
      "    v                       float32  (355167,)\n",
      "    w                       float32  (355167,)\n",
      "    vectors                 float64  (355167, 3)          SCALARS\n",
      "    IntegrationTime         float64  (355167,)\n",
      "    Vorticity               float64  (355167, 3)\n",
      "    Rotation                float64  (355167,)\n",
      "    AngularVelocity         float64  (355167,)\n",
      "    Normals                 float64  (355167, 3)          VECTORS\n"
     ]
    }
   ],
   "source": [
    "print(stream.point_data)"
   ]
  },
  {
   "cell_type": "markdown",
   "metadata": {},
   "source": [
    "# First Sample of s=2"
   ]
  },
  {
   "cell_type": "code",
   "execution_count": 43,
   "metadata": {},
   "outputs": [
    {
     "name": "stdout",
     "output_type": "stream",
     "text": [
      "mesh spacing : (0.15748031496, 0.15748031496, 0.15748031496)\n",
      "mesh2 spacing : (0.31496062992, 0.31496062992, 0.31496062992)\n",
      "mesh dimensions : (64, 64, 64)\n",
      "(64 * 64 * 64)  = 262144\n",
      "us shape : (1048576,)\n",
      "vs shape : (1048576,)\n",
      "ws shape : (1048576,)\n",
      "vectorss shape : (1048576, 3)\n"
     ]
    },
    {
     "ename": "ValueError",
     "evalue": "Number of scalars (3145728) must match either the number of points (262144) or the number of cells (250047).",
     "output_type": "error",
     "traceback": [
      "\u001b[1;31m---------------------------------------------------------------------------\u001b[0m",
      "\u001b[1;31mValueError\u001b[0m                                Traceback (most recent call last)",
      "\u001b[1;32md:\\workspace\\USU\\CS6950-DirectedReadings\\VTK\\Tornado_3D\\torndao_streamlines.ipynb Cell 8'\u001b[0m in \u001b[0;36m<module>\u001b[1;34m\u001b[0m\n\u001b[0;32m     <a href='vscode-notebook-cell:/d%3A/workspace/USU/CS6950-DirectedReadings/VTK/Tornado_3D/torndao_streamlines.ipynb#ch0000009?line=22'>23</a>\u001b[0m \u001b[39mprint\u001b[39m(\u001b[39mf\u001b[39m\u001b[39m'\u001b[39m\u001b[39mus shape : \u001b[39m\u001b[39m{\u001b[39;00mus\u001b[39m.\u001b[39mshape\u001b[39m}\u001b[39;00m\u001b[39m\\n\u001b[39;00m\u001b[39mvs shape : \u001b[39m\u001b[39m{\u001b[39;00mvs\u001b[39m.\u001b[39mshape\u001b[39m}\u001b[39;00m\u001b[39m\\n\u001b[39;00m\u001b[39mws shape : \u001b[39m\u001b[39m{\u001b[39;00mws\u001b[39m.\u001b[39mshape\u001b[39m}\u001b[39;00m\u001b[39m'\u001b[39m)\n\u001b[0;32m     <a href='vscode-notebook-cell:/d%3A/workspace/USU/CS6950-DirectedReadings/VTK/Tornado_3D/torndao_streamlines.ipynb#ch0000009?line=23'>24</a>\u001b[0m \u001b[39mprint\u001b[39m(\u001b[39mf\u001b[39m\u001b[39m'\u001b[39m\u001b[39mvectorss shape : \u001b[39m\u001b[39m{\u001b[39;00mvectorss\u001b[39m.\u001b[39mshape\u001b[39m}\u001b[39;00m\u001b[39m'\u001b[39m)\n\u001b[1;32m---> <a href='vscode-notebook-cell:/d%3A/workspace/USU/CS6950-DirectedReadings/VTK/Tornado_3D/torndao_streamlines.ipynb#ch0000009?line=25'>26</a>\u001b[0m mesh2[\u001b[39m'\u001b[39m\u001b[39mvectors\u001b[39m\u001b[39m'\u001b[39m] \u001b[39m=\u001b[39m vectorss\n",
      "File \u001b[1;32md:\\workspace\\USU\\CS6950-DirectedReadings\\VTK\\vtk-py-env\\lib\\site-packages\\pyvista\\core\\dataset.py:1867\u001b[0m, in \u001b[0;36mDataSet.__setitem__\u001b[1;34m(self, name, scalars)\u001b[0m\n\u001b[0;32m   <a href='file:///d%3A/workspace/USU/CS6950-DirectedReadings/VTK/vtk-py-env/lib/site-packages/pyvista/core/dataset.py?line=1862'>1863</a>\u001b[0m     \u001b[39mself\u001b[39m\u001b[39m.\u001b[39mcell_data[name] \u001b[39m=\u001b[39m scalars\n\u001b[0;32m   <a href='file:///d%3A/workspace/USU/CS6950-DirectedReadings/VTK/vtk-py-env/lib/site-packages/pyvista/core/dataset.py?line=1863'>1864</a>\u001b[0m \u001b[39melse\u001b[39;00m:\n\u001b[0;32m   <a href='file:///d%3A/workspace/USU/CS6950-DirectedReadings/VTK/vtk-py-env/lib/site-packages/pyvista/core/dataset.py?line=1864'>1865</a>\u001b[0m     \u001b[39m# Field data must be set explicitly as it could be a point of\u001b[39;00m\n\u001b[0;32m   <a href='file:///d%3A/workspace/USU/CS6950-DirectedReadings/VTK/vtk-py-env/lib/site-packages/pyvista/core/dataset.py?line=1865'>1866</a>\u001b[0m     \u001b[39m# confusion for new users\u001b[39;00m\n\u001b[1;32m-> <a href='file:///d%3A/workspace/USU/CS6950-DirectedReadings/VTK/vtk-py-env/lib/site-packages/pyvista/core/dataset.py?line=1866'>1867</a>\u001b[0m     raise_not_matching(scalars, \u001b[39mself\u001b[39;49m)\n\u001b[0;32m   <a href='file:///d%3A/workspace/USU/CS6950-DirectedReadings/VTK/vtk-py-env/lib/site-packages/pyvista/core/dataset.py?line=1867'>1868</a>\u001b[0m \u001b[39mreturn\u001b[39;00m\n",
      "File \u001b[1;32md:\\workspace\\USU\\CS6950-DirectedReadings\\VTK\\vtk-py-env\\lib\\site-packages\\pyvista\\utilities\\helpers.py:1085\u001b[0m, in \u001b[0;36mraise_not_matching\u001b[1;34m(scalars, dataset)\u001b[0m\n\u001b[0;32m   <a href='file:///d%3A/workspace/USU/CS6950-DirectedReadings/VTK/vtk-py-env/lib/site-packages/pyvista/utilities/helpers.py?line=1082'>1083</a>\u001b[0m \u001b[39mif\u001b[39;00m \u001b[39misinstance\u001b[39m(dataset, _vtk\u001b[39m.\u001b[39mvtkTable):\n\u001b[0;32m   <a href='file:///d%3A/workspace/USU/CS6950-DirectedReadings/VTK/vtk-py-env/lib/site-packages/pyvista/utilities/helpers.py?line=1083'>1084</a>\u001b[0m     \u001b[39mraise\u001b[39;00m \u001b[39mValueError\u001b[39;00m(\u001b[39mf\u001b[39m\u001b[39m'\u001b[39m\u001b[39mNumber of scalars (\u001b[39m\u001b[39m{\u001b[39;00mscalars\u001b[39m.\u001b[39msize\u001b[39m}\u001b[39;00m\u001b[39m) must match number of rows (\u001b[39m\u001b[39m{\u001b[39;00mdataset\u001b[39m.\u001b[39mn_rows\u001b[39m}\u001b[39;00m\u001b[39m).\u001b[39m\u001b[39m'\u001b[39m)\n\u001b[1;32m-> <a href='file:///d%3A/workspace/USU/CS6950-DirectedReadings/VTK/vtk-py-env/lib/site-packages/pyvista/utilities/helpers.py?line=1084'>1085</a>\u001b[0m \u001b[39mraise\u001b[39;00m \u001b[39mValueError\u001b[39;00m(\u001b[39mf\u001b[39m\u001b[39m'\u001b[39m\u001b[39mNumber of scalars (\u001b[39m\u001b[39m{\u001b[39;00mscalars\u001b[39m.\u001b[39msize\u001b[39m}\u001b[39;00m\u001b[39m) \u001b[39m\u001b[39m'\u001b[39m\n\u001b[0;32m   <a href='file:///d%3A/workspace/USU/CS6950-DirectedReadings/VTK/vtk-py-env/lib/site-packages/pyvista/utilities/helpers.py?line=1085'>1086</a>\u001b[0m                  \u001b[39mf\u001b[39m\u001b[39m'\u001b[39m\u001b[39mmust match either the number of points (\u001b[39m\u001b[39m{\u001b[39;00mdataset\u001b[39m.\u001b[39mn_points\u001b[39m}\u001b[39;00m\u001b[39m) \u001b[39m\u001b[39m'\u001b[39m\n\u001b[0;32m   <a href='file:///d%3A/workspace/USU/CS6950-DirectedReadings/VTK/vtk-py-env/lib/site-packages/pyvista/utilities/helpers.py?line=1086'>1087</a>\u001b[0m                  \u001b[39mf\u001b[39m\u001b[39m'\u001b[39m\u001b[39mor the number of cells (\u001b[39m\u001b[39m{\u001b[39;00mdataset\u001b[39m.\u001b[39mn_cells\u001b[39m}\u001b[39;00m\u001b[39m).\u001b[39m\u001b[39m'\u001b[39m)\n",
      "\u001b[1;31mValueError\u001b[0m: Number of scalars (3145728) must match either the number of points (262144) or the number of cells (250047)."
     ]
    }
   ],
   "source": [
    "s = 2\n",
    "\n",
    "mesh2 = pv.UniformGrid(\n",
    "    dims=tuple([int(x/s) for x in list(mesh.dimensions)]),\n",
    "    spacing=tuple([x*s for x in list(mesh.spacing)]),\n",
    "    origin=mesh.origin,\n",
    ")\n",
    "\n",
    "print(f'mesh spacing : {mesh.spacing}')\n",
    "print(f'mesh2 spacing : {mesh2.spacing}')\n",
    "\n",
    "ws,vs,us = mesh.point_data['w'], mesh.point_data['v'], mesh.point_data['u']\n",
    "us = us[::s]\n",
    "vs = vs[::s]\n",
    "ws = ws[::s]\n",
    "vectorss = np.empty((int(mesh.n_points/s), 3))\n",
    "vectorss[:,0] = us\n",
    "vectorss[:,1] = vs\n",
    "vectorss[:,2] = ws\n",
    "\n",
    "print(f'mesh dimensions : {mesh2.dimensions}')\n",
    "print(f'(64 * 64 * 64)  = {(64*64*64)}')\n",
    "print(f'us shape : {us.shape}\\nvs shape : {vs.shape}\\nws shape : {ws.shape}')\n",
    "print(f'vectorss shape : {vectorss.shape}')\n",
    "\n",
    "mesh2['vectors'] = vectorss"
   ]
  },
  {
   "cell_type": "code",
   "execution_count": null,
   "metadata": {},
   "outputs": [
    {
     "ename": "ValueError",
     "evalue": "Number of scalars (3145728) must match either the number of points (2097152) or the number of cells (2048383).",
     "output_type": "error",
     "traceback": [
      "\u001b[1;31m---------------------------------------------------------------------------\u001b[0m",
      "\u001b[1;31mValueError\u001b[0m                                Traceback (most recent call last)",
      "\u001b[1;32md:\\workspace\\USU\\CS6950-DirectedReadings\\VTK\\Tornado_3D\\torndao_streamlines.ipynb Cell 8'\u001b[0m in \u001b[0;36m<module>\u001b[1;34m\u001b[0m\n\u001b[1;32m----> <a href='vscode-notebook-cell:/d%3A/workspace/USU/CS6950-DirectedReadings/VTK/Tornado_3D/torndao_streamlines.ipynb#ch0000010?line=0'>1</a>\u001b[0m mesh[\u001b[39m'\u001b[39m\u001b[39mvectorss\u001b[39m\u001b[39m'\u001b[39m] \u001b[39m=\u001b[39m vectorss\n\u001b[0;32m      <a href='vscode-notebook-cell:/d%3A/workspace/USU/CS6950-DirectedReadings/VTK/Tornado_3D/torndao_streamlines.ipynb#ch0000010?line=2'>3</a>\u001b[0m \u001b[39m# Sphere Source\u001b[39;00m\n\u001b[0;32m      <a href='vscode-notebook-cell:/d%3A/workspace/USU/CS6950-DirectedReadings/VTK/Tornado_3D/torndao_streamlines.ipynb#ch0000010?line=3'>4</a>\u001b[0m \u001b[39m# stream, src = mesh.streamlines(\u001b[39;00m\n\u001b[0;32m      <a href='vscode-notebook-cell:/d%3A/workspace/USU/CS6950-DirectedReadings/VTK/Tornado_3D/torndao_streamlines.ipynb#ch0000010?line=4'>5</a>\u001b[0m \u001b[39m#     'vectorss', \u001b[39;00m\n\u001b[1;32m   (...)\u001b[0m\n\u001b[0;32m     <a href='vscode-notebook-cell:/d%3A/workspace/USU/CS6950-DirectedReadings/VTK/Tornado_3D/torndao_streamlines.ipynb#ch0000010?line=12'>13</a>\u001b[0m \n\u001b[0;32m     <a href='vscode-notebook-cell:/d%3A/workspace/USU/CS6950-DirectedReadings/VTK/Tornado_3D/torndao_streamlines.ipynb#ch0000010?line=13'>14</a>\u001b[0m \u001b[39m# Line Source\u001b[39;00m\n\u001b[0;32m     <a href='vscode-notebook-cell:/d%3A/workspace/USU/CS6950-DirectedReadings/VTK/Tornado_3D/torndao_streamlines.ipynb#ch0000010?line=14'>15</a>\u001b[0m stream \u001b[39m=\u001b[39m mesh\u001b[39m.\u001b[39mstreamlines(\n\u001b[0;32m     <a href='vscode-notebook-cell:/d%3A/workspace/USU/CS6950-DirectedReadings/VTK/Tornado_3D/torndao_streamlines.ipynb#ch0000010?line=15'>16</a>\u001b[0m     \u001b[39m'\u001b[39m\u001b[39mvectorss\u001b[39m\u001b[39m'\u001b[39m, \n\u001b[0;32m     <a href='vscode-notebook-cell:/d%3A/workspace/USU/CS6950-DirectedReadings/VTK/Tornado_3D/torndao_streamlines.ipynb#ch0000010?line=16'>17</a>\u001b[0m     source\u001b[39m=\u001b[39msrc, \n\u001b[1;32m   (...)\u001b[0m\n\u001b[0;32m     <a href='vscode-notebook-cell:/d%3A/workspace/USU/CS6950-DirectedReadings/VTK/Tornado_3D/torndao_streamlines.ipynb#ch0000010?line=22'>23</a>\u001b[0m     min_step_length\u001b[39m=\u001b[39m\u001b[39m.01\u001b[39m\n\u001b[0;32m     <a href='vscode-notebook-cell:/d%3A/workspace/USU/CS6950-DirectedReadings/VTK/Tornado_3D/torndao_streamlines.ipynb#ch0000010?line=23'>24</a>\u001b[0m )\n",
      "File \u001b[1;32md:\\workspace\\USU\\CS6950-DirectedReadings\\VTK\\vtk-py-env\\lib\\site-packages\\pyvista\\core\\dataset.py:1867\u001b[0m, in \u001b[0;36mDataSet.__setitem__\u001b[1;34m(self, name, scalars)\u001b[0m\n\u001b[0;32m   <a href='file:///d%3A/workspace/USU/CS6950-DirectedReadings/VTK/vtk-py-env/lib/site-packages/pyvista/core/dataset.py?line=1862'>1863</a>\u001b[0m     \u001b[39mself\u001b[39m\u001b[39m.\u001b[39mcell_data[name] \u001b[39m=\u001b[39m scalars\n\u001b[0;32m   <a href='file:///d%3A/workspace/USU/CS6950-DirectedReadings/VTK/vtk-py-env/lib/site-packages/pyvista/core/dataset.py?line=1863'>1864</a>\u001b[0m \u001b[39melse\u001b[39;00m:\n\u001b[0;32m   <a href='file:///d%3A/workspace/USU/CS6950-DirectedReadings/VTK/vtk-py-env/lib/site-packages/pyvista/core/dataset.py?line=1864'>1865</a>\u001b[0m     \u001b[39m# Field data must be set explicitly as it could be a point of\u001b[39;00m\n\u001b[0;32m   <a href='file:///d%3A/workspace/USU/CS6950-DirectedReadings/VTK/vtk-py-env/lib/site-packages/pyvista/core/dataset.py?line=1865'>1866</a>\u001b[0m     \u001b[39m# confusion for new users\u001b[39;00m\n\u001b[1;32m-> <a href='file:///d%3A/workspace/USU/CS6950-DirectedReadings/VTK/vtk-py-env/lib/site-packages/pyvista/core/dataset.py?line=1866'>1867</a>\u001b[0m     raise_not_matching(scalars, \u001b[39mself\u001b[39;49m)\n\u001b[0;32m   <a href='file:///d%3A/workspace/USU/CS6950-DirectedReadings/VTK/vtk-py-env/lib/site-packages/pyvista/core/dataset.py?line=1867'>1868</a>\u001b[0m \u001b[39mreturn\u001b[39;00m\n",
      "File \u001b[1;32md:\\workspace\\USU\\CS6950-DirectedReadings\\VTK\\vtk-py-env\\lib\\site-packages\\pyvista\\utilities\\helpers.py:1085\u001b[0m, in \u001b[0;36mraise_not_matching\u001b[1;34m(scalars, dataset)\u001b[0m\n\u001b[0;32m   <a href='file:///d%3A/workspace/USU/CS6950-DirectedReadings/VTK/vtk-py-env/lib/site-packages/pyvista/utilities/helpers.py?line=1082'>1083</a>\u001b[0m \u001b[39mif\u001b[39;00m \u001b[39misinstance\u001b[39m(dataset, _vtk\u001b[39m.\u001b[39mvtkTable):\n\u001b[0;32m   <a href='file:///d%3A/workspace/USU/CS6950-DirectedReadings/VTK/vtk-py-env/lib/site-packages/pyvista/utilities/helpers.py?line=1083'>1084</a>\u001b[0m     \u001b[39mraise\u001b[39;00m \u001b[39mValueError\u001b[39;00m(\u001b[39mf\u001b[39m\u001b[39m'\u001b[39m\u001b[39mNumber of scalars (\u001b[39m\u001b[39m{\u001b[39;00mscalars\u001b[39m.\u001b[39msize\u001b[39m}\u001b[39;00m\u001b[39m) must match number of rows (\u001b[39m\u001b[39m{\u001b[39;00mdataset\u001b[39m.\u001b[39mn_rows\u001b[39m}\u001b[39;00m\u001b[39m).\u001b[39m\u001b[39m'\u001b[39m)\n\u001b[1;32m-> <a href='file:///d%3A/workspace/USU/CS6950-DirectedReadings/VTK/vtk-py-env/lib/site-packages/pyvista/utilities/helpers.py?line=1084'>1085</a>\u001b[0m \u001b[39mraise\u001b[39;00m \u001b[39mValueError\u001b[39;00m(\u001b[39mf\u001b[39m\u001b[39m'\u001b[39m\u001b[39mNumber of scalars (\u001b[39m\u001b[39m{\u001b[39;00mscalars\u001b[39m.\u001b[39msize\u001b[39m}\u001b[39;00m\u001b[39m) \u001b[39m\u001b[39m'\u001b[39m\n\u001b[0;32m   <a href='file:///d%3A/workspace/USU/CS6950-DirectedReadings/VTK/vtk-py-env/lib/site-packages/pyvista/utilities/helpers.py?line=1085'>1086</a>\u001b[0m                  \u001b[39mf\u001b[39m\u001b[39m'\u001b[39m\u001b[39mmust match either the number of points (\u001b[39m\u001b[39m{\u001b[39;00mdataset\u001b[39m.\u001b[39mn_points\u001b[39m}\u001b[39;00m\u001b[39m) \u001b[39m\u001b[39m'\u001b[39m\n\u001b[0;32m   <a href='file:///d%3A/workspace/USU/CS6950-DirectedReadings/VTK/vtk-py-env/lib/site-packages/pyvista/utilities/helpers.py?line=1086'>1087</a>\u001b[0m                  \u001b[39mf\u001b[39m\u001b[39m'\u001b[39m\u001b[39mor the number of cells (\u001b[39m\u001b[39m{\u001b[39;00mdataset\u001b[39m.\u001b[39mn_cells\u001b[39m}\u001b[39;00m\u001b[39m).\u001b[39m\u001b[39m'\u001b[39m)\n",
      "\u001b[1;31mValueError\u001b[0m: Number of scalars (3145728) must match either the number of points (2097152) or the number of cells (2048383)."
     ]
    }
   ],
   "source": [
    "mesh['vectorss'] = vectorss\n",
    "\n",
    "# Sphere Source\n",
    "# stream, src = mesh.streamlines(\n",
    "#     'vectorss', \n",
    "#     source=src,\n",
    "#     return_source=True,\n",
    "#     terminal_speed=0,\n",
    "#     n_points=10,\n",
    "#     source_radius=1,\n",
    "#     source_center=(0,0,9)\n",
    "# )\n",
    "\n",
    "# Line Source\n",
    "stream = mesh.streamlines(\n",
    "    'vectorss', \n",
    "    source=src, \n",
    "    integration_direction='both',\n",
    "    terminal_speed=-1,\n",
    "    step_unit='l',\n",
    "    initial_step_length=.01,\n",
    "    max_steps=6000,\n",
    "    min_step_length=.01\n",
    ")\n",
    "\n",
    "sargs=dict(vertical=True, title_font_size=16)\n",
    "p = pv.Plotter()\n",
    "p.add_mesh(stream.tube(radius=0.02), lighting=False, scalar_bar_args=sargs)\n",
    "p.add_mesh(src)\n",
    "p.add_mesh(boundary, color='grey', opacity=.25)\n",
    "p.show()"
   ]
  }
 ],
 "metadata": {
  "interpreter": {
   "hash": "e1544be3cfcd25960d8e00eace988acceb41ff3a4312f7e2c9ed99989dda4605"
  },
  "kernelspec": {
   "display_name": "Python 3.9.10 ('vtk-py-env': venv)",
   "language": "python",
   "name": "python3"
  },
  "language_info": {
   "codemirror_mode": {
    "name": "ipython",
    "version": 3
   },
   "file_extension": ".py",
   "mimetype": "text/x-python",
   "name": "python",
   "nbconvert_exporter": "python",
   "pygments_lexer": "ipython3",
   "version": "3.9.10"
  },
  "orig_nbformat": 4
 },
 "nbformat": 4,
 "nbformat_minor": 2
}
