{
  "cells": [
    {
      "cell_type": "code",
      "execution_count": 1,
      "metadata": {
        "collapsed": false
      },
      "outputs": [],
      "source": [
        "%matplotlib inline\n",
        "from pyvista import set_plot_theme\n",
        "set_plot_theme('document')"
      ]
    },
    {
      "cell_type": "markdown",
      "metadata": {},
      "source": [
        "Streamlines {#streamlines_example}\n",
        "===========\n",
        "\n",
        "Integrate a vector field to generate streamlines.\n"
      ]
    },
    {
      "cell_type": "markdown",
      "metadata": {},
      "source": [
        "This example generates streamlines of blood velocity. An isosurface of\n",
        "speed provides context. The starting positions for the streamtubes were\n",
        "determined by experimenting with the data.\n"
      ]
    },
    {
      "cell_type": "code",
      "execution_count": 2,
      "metadata": {
        "collapsed": false
      },
      "outputs": [],
      "source": [
        "# sphinx_gallery_thumbnail_number = 3\n",
        "import numpy as np\n",
        "\n",
        "import pyvista as pv\n",
        "from pyvista import examples"
      ]
    },
    {
      "cell_type": "markdown",
      "metadata": {},
      "source": [
        "Carotid\n",
        "=======\n",
        "\n",
        "Download a sample dataset containing a vector field that can be\n",
        "integrated.\n"
      ]
    },
    {
      "cell_type": "code",
      "execution_count": 3,
      "metadata": {
        "collapsed": false
      },
      "outputs": [],
      "source": [
        "mesh = examples.download_carotid()"
      ]
    },
    {
      "cell_type": "markdown",
      "metadata": {},
      "source": [
        "Run the stream line filtering algorithm using random seed points inside\n",
        "a sphere with radius of 2.0.\n"
      ]
    },
    {
      "cell_type": "code",
      "execution_count": 4,
      "metadata": {
        "collapsed": false
      },
      "outputs": [],
      "source": [
        "streamlines, src = mesh.streamlines(\n",
        "    return_source=True,\n",
        "    max_time=100.0,\n",
        "    initial_step_length=2.0,\n",
        "    terminal_speed=0.1,\n",
        "    n_points=25,\n",
        "    source_radius=2.0,\n",
        "    source_center=(133.1, 116.3, 5.0),\n",
        ")"
      ]
    },
    {
      "cell_type": "markdown",
      "metadata": {},
      "source": [
        "Display the results! Please note that because this dataset\\'s velocity\n",
        "field was measured with low resolution, many streamlines travel outside\n",
        "the artery.\n"
      ]
    },
    {
      "cell_type": "code",
      "execution_count": 5,
      "metadata": {
        "collapsed": false
      },
      "outputs": [
        {
          "data": {
            "application/vnd.jupyter.widget-view+json": {
              "model_id": "3023f36339684e7a88b7ed197a3da443",
              "version_major": 2,
              "version_minor": 0
            },
            "text/plain": [
              "ViewInteractiveWidget(height=768, layout=Layout(height='auto', width='100%'), width=1024)"
            ]
          },
          "metadata": {},
          "output_type": "display_data"
        }
      ],
      "source": [
        "p = pv.Plotter()\n",
        "p.add_mesh(mesh.outline(), color=\"k\")\n",
        "p.add_mesh(streamlines.tube(radius=0.15))\n",
        "p.add_mesh(src)\n",
        "p.add_mesh(mesh.contour([160]).extract_all_edges(), color=\"grey\", opacity=0.25)\n",
        "p.camera_position = [(182.0, 177.0, 50), (139, 105, 19), (-0.2, -0.2, 1)]\n",
        "p.show()"
      ]
    },
    {
      "cell_type": "markdown",
      "metadata": {},
      "source": [
        "Blood Vessels\n",
        "=============\n",
        "\n",
        "Here is another example of blood flow:\n"
      ]
    },
    {
      "cell_type": "code",
      "execution_count": 6,
      "metadata": {
        "collapsed": false
      },
      "outputs": [],
      "source": [
        "mesh = examples.download_blood_vessels().cell_data_to_point_data()\n",
        "mesh.set_active_scalars(\"velocity\")\n",
        "streamlines, src = mesh.streamlines(\n",
        "    return_source=True, source_radius=10, source_center=(92.46, 74.37, 135.5)\n",
        ")"
      ]
    },
    {
      "cell_type": "code",
      "execution_count": 7,
      "metadata": {
        "collapsed": false
      },
      "outputs": [
        {
          "data": {
            "application/vnd.jupyter.widget-view+json": {
              "model_id": "b47893ff18e94632bc0bc5686e0886b1",
              "version_major": 2,
              "version_minor": 0
            },
            "text/plain": [
              "ViewInteractiveWidget(height=768, layout=Layout(height='auto', width='100%'), width=1024)"
            ]
          },
          "metadata": {},
          "output_type": "display_data"
        }
      ],
      "source": [
        "boundary = mesh.decimate_boundary().extract_all_edges()\n",
        "\n",
        "sargs=dict(vertical=True, title_font_size=16)\n",
        "p = pv.Plotter()\n",
        "p.add_mesh(streamlines.tube(radius=0.2), lighting=False, scalar_bar_args=sargs)\n",
        "p.add_mesh(src)\n",
        "p.add_mesh(boundary, color=\"grey\", opacity=0.25)\n",
        "p.camera_position = [(10, 9.5, -43), (87.0, 73.5, 123.0), (-0.5, -0.7, 0.5)]\n",
        "p.show()"
      ]
    },
    {
      "cell_type": "markdown",
      "metadata": {},
      "source": [
        "A source mesh can also be provided using the\n",
        "`pyvista.DataSetFilters.streamlines_from_source`{.interpreted-text\n",
        "role=\"func\"} filter, for example if an inlet surface is available. In\n",
        "this example, the inlet surface is extracted just inside the domain for\n",
        "use as the seed for the streamlines.\n"
      ]
    },
    {
      "cell_type": "code",
      "execution_count": 8,
      "metadata": {
        "collapsed": false
      },
      "outputs": [
        {
          "name": "stdout",
          "output_type": "stream",
          "text": [
            "Added arrays from streamlines filter:\n",
            "['IntegrationTime', 'Vorticity', 'Rotation', 'AngularVelocity', 'Normals', 'ReasonForTermination', 'SeedIds']\n"
          ]
        }
      ],
      "source": [
        "source_mesh = mesh.slice('z', origin=(0, 0, 182))  # inlet surface\n",
        "# thin out ~40% points to get a nice density of streamlines\n",
        "seed_mesh = source_mesh.decimate_boundary(0.4)\n",
        "streamlines = mesh.streamlines_from_source(seed_mesh, integration_direction=\"forward\")\n",
        "# print *only* added arrays from streamlines filter\n",
        "print(\"Added arrays from streamlines filter:\")\n",
        "print([array_name for array_name in streamlines.array_names if array_name not in mesh.array_names])"
      ]
    },
    {
      "cell_type": "markdown",
      "metadata": {},
      "source": [
        "Plot streamlines colored by the time along the streamlines.\n"
      ]
    },
    {
      "cell_type": "code",
      "execution_count": 9,
      "metadata": {
        "collapsed": false
      },
      "outputs": [
        {
          "data": {
            "application/vnd.jupyter.widget-view+json": {
              "model_id": "9a7f025cc5c748cbba47ce8bb9b5fde8",
              "version_major": 2,
              "version_minor": 0
            },
            "text/plain": [
              "ViewInteractiveWidget(height=768, layout=Layout(height='auto', width='100%'), width=1024)"
            ]
          },
          "metadata": {},
          "output_type": "display_data"
        }
      ],
      "source": [
        "sargs=dict(vertical=True, title_font_size=16)\n",
        "p = pv.Plotter()\n",
        "p.add_mesh(streamlines.tube(radius=0.2),\n",
        "           scalars=\"IntegrationTime\", clim=[0, 1000], lighting=False,\n",
        "           scalar_bar_args=sargs)\n",
        "p.add_mesh(boundary, color=\"grey\", opacity=0.25)\n",
        "p.add_mesh(source_mesh, color=\"red\")\n",
        "p.camera_position = [(10, 9.5, -43), (87.0, 73.5, 123.0), (-0.5, -0.7, 0.5)]\n",
        "p.show()"
      ]
    },
    {
      "cell_type": "markdown",
      "metadata": {},
      "source": [
        "Kitchen\n",
        "=======\n"
      ]
    },
    {
      "cell_type": "code",
      "execution_count": 10,
      "metadata": {
        "collapsed": false
      },
      "outputs": [],
      "source": [
        "kpos = [(-6.68, 11.9, 11.6), (3.5, 2.5, 1.26), (0.45, -0.4, 0.8)]\n",
        "\n",
        "mesh = examples.download_kitchen()\n",
        "kitchen = examples.download_kitchen(split=True)"
      ]
    },
    {
      "cell_type": "code",
      "execution_count": 11,
      "metadata": {
        "collapsed": false
      },
      "outputs": [],
      "source": [
        "streamlines = mesh.streamlines(n_points=40, source_center=(0.08, 3, 0.71))"
      ]
    },
    {
      "cell_type": "code",
      "execution_count": 12,
      "metadata": {
        "collapsed": false
      },
      "outputs": [
        {
          "data": {
            "application/vnd.jupyter.widget-view+json": {
              "model_id": "a10433dad3a246418b92cc227161043b",
              "version_major": 2,
              "version_minor": 0
            },
            "text/plain": [
              "ViewInteractiveWidget(height=768, layout=Layout(height='auto', width='100%'), width=1024)"
            ]
          },
          "metadata": {},
          "output_type": "display_data"
        }
      ],
      "source": [
        "p = pv.Plotter()\n",
        "p.add_mesh(mesh.outline(), color=\"k\")\n",
        "p.add_mesh(kitchen, color=True)\n",
        "p.add_mesh(streamlines.tube(radius=0.01), scalars=\"velocity\", lighting=False)\n",
        "p.camera_position = kpos\n",
        "p.show()"
      ]
    },
    {
      "cell_type": "markdown",
      "metadata": {},
      "source": [
        "Custom 3D Vector Field\n",
        "======================\n"
      ]
    },
    {
      "cell_type": "code",
      "execution_count": 13,
      "metadata": {
        "collapsed": false
      },
      "outputs": [],
      "source": [
        "nx = 20\n",
        "ny = 15\n",
        "nz = 5\n",
        "\n",
        "origin = (-(nx - 1)*0.1/2, -(ny - 1)*0.1/2, -(nz - 1)*0.1/2)\n",
        "mesh = pv.UniformGrid(\n",
        "    dims=(nx, ny, nz),\n",
        "    spacing=(.1, .1, .1),\n",
        "    origin=origin\n",
        ")\n",
        "x = mesh.points[:, 0]\n",
        "y = mesh.points[:, 1]\n",
        "z = mesh.points[:, 2]\n",
        "vectors = np.empty((mesh.n_points, 3))\n",
        "vectors[:, 0] = np.sin(np.pi * x) * np.cos(np.pi * y) * np.cos(np.pi * z)\n",
        "vectors[:, 1] = -np.cos(np.pi * x) * np.sin(np.pi * y) * np.cos(np.pi * z)\n",
        "vectors[:, 2] = (np.sqrt(3.0 / 3.0) * np.cos(np.pi * x) * np.cos(np.pi * y) *\n",
        "                 np.sin(np.pi * z))\n",
        "\n",
        "mesh['vectors'] = vectors"
      ]
    },
    {
      "cell_type": "code",
      "execution_count": 14,
      "metadata": {
        "collapsed": false
      },
      "outputs": [],
      "source": [
        "stream, src = mesh.streamlines('vectors', return_source=True,\n",
        "                               terminal_speed=0.0, n_points=200,\n",
        "                               source_radius=0.1)"
      ]
    },
    {
      "cell_type": "code",
      "execution_count": 15,
      "metadata": {
        "collapsed": false
      },
      "outputs": [
        {
          "data": {
            "application/vnd.jupyter.widget-view+json": {
              "model_id": "46c6093fabbf4f20b7ed1b189a0bc128",
              "version_major": 2,
              "version_minor": 0
            },
            "text/plain": [
              "ViewInteractiveWidget(height=768, layout=Layout(height='auto', width='100%'), width=1024)"
            ]
          },
          "metadata": {},
          "output_type": "display_data"
        }
      ],
      "source": [
        "cpos = [(1.2, 1.2, 1.2), (-0.0, -0.0, -0.0), (0.0, 0.0, 1.0)]\n",
        "stream.tube(radius=0.0015).plot(cpos=cpos)"
      ]
    }
  ],
  "metadata": {
    "kernelspec": {
      "display_name": "Python 3",
      "language": "python",
      "name": "python3"
    },
    "language_info": {
      "codemirror_mode": {
        "name": "ipython",
        "version": 3
      },
      "file_extension": ".py",
      "mimetype": "text/x-python",
      "name": "python",
      "nbconvert_exporter": "python",
      "pygments_lexer": "ipython3",
      "version": "3.9.10"
    }
  },
  "nbformat": 4,
  "nbformat_minor": 0
}
