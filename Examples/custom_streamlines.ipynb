{
 "cells": [
  {
   "cell_type": "code",
   "execution_count": 1,
   "metadata": {},
   "outputs": [],
   "source": [
    "import numpy as np\n",
    "import pyvista as pv"
   ]
  },
  {
   "cell_type": "code",
   "execution_count": 10,
   "metadata": {},
   "outputs": [
    {
     "name": "stdout",
     "output_type": "stream",
     "text": [
      "x shape : (1500,)\n",
      "y shape : (1500,)\n",
      "z shape : (1500,)\n",
      "origin : (-0.9500000000000001, -0.7000000000000001, -0.2)\n",
      "mesh dims : (20, 15, 5)\n"
     ]
    }
   ],
   "source": [
    "# 20*15*5 = 1500\n",
    "nx = 20\n",
    "ny = 15\n",
    "nz = 5\n",
    "\n",
    "origin = (-(nx - 1)*0.1/2, -(ny - 1)*0.1/2, -(nz - 1)*0.1/2)\n",
    "mesh = pv.UniformGrid(\n",
    "    dims=(nx, ny, nz),\n",
    "    spacing=(.1, .1, .1),\n",
    "    origin=origin\n",
    ")\n",
    "x = mesh.points[:, 0]\n",
    "y = mesh.points[:, 1]\n",
    "z = mesh.points[:, 2]\n",
    "\n",
    "print(f'x shape : {x.shape}\\ny shape : {y.shape}\\nz shape : {z.shape}')\n",
    "print(f'origin : {origin}')\n",
    "print(f'mesh dims : {mesh.dimensions}')"
   ]
  },
  {
   "cell_type": "code",
   "execution_count": 9,
   "metadata": {},
   "outputs": [
    {
     "name": "stdout",
     "output_type": "stream",
     "text": [
      "vectors shape: (1500, 3)\n"
     ]
    }
   ],
   "source": [
    "vectors = np.empty((mesh.n_points, 3))\n",
    "vectors[:, 0] = np.sin(np.pi * x) * np.cos(np.pi * y) * np.cos(np.pi * z)\n",
    "vectors[:, 1] = -np.cos(np.pi * x) * np.sin(np.pi * y) * np.cos(np.pi * z)\n",
    "vectors[:, 2] = (np.sqrt(3.0 / 3.0) * np.cos(np.pi * x) * np.cos(np.pi * y) *\n",
    "                 np.sin(np.pi * z))\n",
    "\n",
    "mesh['vectors'] = vectors\n",
    "print(f'vectors shape: {vectors.shape}')"
   ]
  },
  {
   "cell_type": "code",
   "execution_count": 4,
   "metadata": {},
   "outputs": [],
   "source": [
    "stream, src = mesh.streamlines('vectors', return_source=True,\n",
    "                               terminal_speed=0.0, n_points=200,\n",
    "                               source_radius=0.1)"
   ]
  },
  {
   "cell_type": "code",
   "execution_count": 5,
   "metadata": {},
   "outputs": [
    {
     "data": {
      "application/vnd.jupyter.widget-view+json": {
       "model_id": "c422553d6eb449beb015eda34f8260e2",
       "version_major": 2,
       "version_minor": 0
      },
      "text/plain": [
       "ViewInteractiveWidget(height=768, layout=Layout(height='auto', width='100%'), width=1024)"
      ]
     },
     "metadata": {},
     "output_type": "display_data"
    }
   ],
   "source": [
    "cpos = [(1.2, 1.2, 1.2), (-0.0, -0.0, -0.0), (0.0, 0.0, 1.0)]\n",
    "stream.tube(radius=0.0015).plot(cpos=cpos)"
   ]
  }
 ],
 "metadata": {
  "interpreter": {
   "hash": "e1544be3cfcd25960d8e00eace988acceb41ff3a4312f7e2c9ed99989dda4605"
  },
  "kernelspec": {
   "display_name": "Python 3.9.10 ('vtk-py-env': venv)",
   "language": "python",
   "name": "python3"
  },
  "language_info": {
   "codemirror_mode": {
    "name": "ipython",
    "version": 3
   },
   "file_extension": ".py",
   "mimetype": "text/x-python",
   "name": "python",
   "nbconvert_exporter": "python",
   "pygments_lexer": "ipython3",
   "version": "3.9.10"
  },
  "orig_nbformat": 4
 },
 "nbformat": 4,
 "nbformat_minor": 2
}
